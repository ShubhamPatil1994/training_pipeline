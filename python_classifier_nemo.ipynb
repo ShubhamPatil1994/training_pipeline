{
 "cells": [
  {
   "cell_type": "code",
   "execution_count": 3,
   "metadata": {},
   "outputs": [
    {
     "name": "stdout",
     "output_type": "stream",
     "text": [
      "GPU mode\n",
      "OK\n"
     ]
    }
   ],
   "source": [
    "# Code to evaluate the performance of the classifier layer using NEMO Classifier\n",
    "\n",
    "# Import Libraries\n",
    "\n",
    "#from ConfigParser import SafeConfigParser\n",
    "from PIL import Image, ExifTags\n",
    "\n",
    "import pynemo\n",
    "import multiprocessing\n",
    "import scipy.ndimage\n",
    "import numpy as np\n",
    "%matplotlib inline\n",
    "from pylab import *\n",
    "import caffe\n",
    "#import h5py\n",
    "import time\n",
    "import cv2\n",
    "import os\n",
    "import csv\n",
    "import scipy \n",
    "import matplotlib.pyplot as plt\n",
    "import matplotlib.patches as patches\n",
    "import math\n",
    "\n",
    "#sys.path.append('utils')\n",
    "from utils.TrainNet import train, trainXSteps\n",
    "from utils.Vis import vis_make_palette, vis_color_seg, checkEXIFRotation\n",
    "\n",
    "# caffe.set_mode_cpu()\n",
    "# print(\"CPU mode\")\n",
    "\n",
    "caffe.set_mode_gpu()\n",
    "caffe.set_device(0)\n",
    "# caffe.set_mode_cpu()\n",
    "\n",
    "print(\"GPU mode\")\n",
    "\n",
    "print('OK')"
   ]
  },
  {
   "cell_type": "code",
   "execution_count": 4,
   "metadata": {},
   "outputs": [],
   "source": [
    "def get_net(protxt_file, caffemodel_file):\n",
    "    # This function returns the caffemodel\n",
    "    return caffe.Net( protxt_file, caffemodel_file, caffe.TEST)\n",
    "\n",
    "# protxt_file = '/opt/caffe/neurala/training-pipeline/models/FullDenseNet/FullDenseNet-Forward.prototxt'\n",
    "protxt_file = '/opt/caffe/neurala/training-pipeline/models/classifier/CIFAR_model/architecture_files/signet1024ss-10.prototxt'\n",
    "# protxt_file = '/opt/caffe/neurala/training-pipeline/models/classifier/classifier_1500/deploy.prototxt'\n",
    "# caffemodel_file = '/opt/caffe/neurala/training-pipeline/models/weights/snapshot_iter_40000.caffemodel'\n",
    "caffemodel_file = '/opt/caffe/neurala/training-pipeline/models/classifier/CIFAR_model/CIFAR_caffemodels/signet1024ss-CIFAR-10.caffemodel'\n",
    "# caffemodel_file = '/opt/caffe/neurala/training-pipeline/models/classifier/classifier_1500/snapshot_iter_1550.caffemodel'\n",
    "\n",
    "# net = get_net(protxt_file, caffemodel_file)"
   ]
  },
  {
   "cell_type": "code",
   "execution_count": 5,
   "metadata": {},
   "outputs": [],
   "source": [
    "path = '/opt/caffe/neurala/training-pipeline/models/classifier/CIFAR_dataset/data'"
   ]
  },
  {
   "cell_type": "code",
   "execution_count": 6,
   "metadata": {},
   "outputs": [
    {
     "name": "stdout",
     "output_type": "stream",
     "text": [
      "automobile\n",
      "{0: 'airplane', 1: 'automobile', 2: 'bird', 3: 'cat', 4: 'deer', 5: 'dog', 6: 'frog', 7: 'horse', 8: 'ship', 9: 'truck'}\n"
     ]
    }
   ],
   "source": [
    "labels = \"\"\"airplane\n",
    "automobile\n",
    "bird\n",
    "cat\n",
    "deer\n",
    "dog\n",
    "frog\n",
    "horse\n",
    "ship\n",
    "truck\"\"\"\n",
    "\n",
    "_classes = {i: v.replace(' ', '_') for i, v in enumerate(labels.split('\\n'))}\n",
    "\n",
    "print(_classes[1])\n",
    "print(_classes)"
   ]
  },
  {
   "cell_type": "code",
   "execution_count": 7,
   "metadata": {},
   "outputs": [],
   "source": [
    "def get_image():\n",
    "    \"\"\"\n",
    "    Function to load image locations, corresponding ground truth classes for classification from test\n",
    "    \n",
    "    return:\n",
    "    A list with each individual image of the form\n",
    "    [Image_location in str], [Ground truth of image classification]\n",
    "    \"\"\"\n",
    "    # Reference the directory of the GVDL folder\n",
    "    img_loc = path + '/test.list'\n",
    "    data = [] \n",
    "    gt = []\n",
    "    with open(img_loc, 'r') as f:\n",
    "        reader = csv.reader(f, dialect='excel', delimiter='-')\n",
    "        for row in reader:\n",
    "            data.append(path + '/test/' + row[0] + '-' + row[1])\n",
    "            gt.append(row[1][:-4])\n",
    "    return data, gt\n",
    "\n",
    "def get_train_image():\n",
    "    \"\"\"\n",
    "    Function to load image locations, corresponding ground truth classes for classification from train\n",
    "\n",
    "    return:\n",
    "    A list with each individual image of the form\n",
    "    [Image_location in str], [Ground truth of image classification]\n",
    "    \"\"\"\n",
    "    # Reference the directory of the GVDL folder\n",
    "    img_loc = path + '/train.list'\n",
    "    data = [] \n",
    "    gt = []\n",
    "    with open(img_loc, 'r') as f:\n",
    "        reader = csv.reader(f, dialect='excel')\n",
    "        for row in reader:\n",
    "#             print(row[0])\n",
    "            data.append(path + '/train/' + row[0])\n",
    "#             print(row[0].split(\"-\")[2][:-4])\n",
    "            gt.append(row[0].split(\"-\")[2][:-4])\n",
    "    return data, gt\n",
    "\n"
   ]
  },
  {
   "cell_type": "code",
   "execution_count": 8,
   "metadata": {},
   "outputs": [],
   "source": [
    "def normailize(im_arr):\n",
    "    range = im_arr.max() - im_arr.min() \n",
    "    im_arr = (im_arr - im_arr.min()) / range - 0.5\n",
    "    return im_arr\n",
    "\n",
    "def subtract_mean(im_arr):\n",
    "    # This function was needed for classifier_1500 model which has a great accuracy. It needs mean subtraction\n",
    "    im_src = '/opt/caffe/neurala/training-pipeline/models/classifier/classifier_1500/image.png'\n",
    "    im = Image.open(im_src)\n",
    "    im = np.asarray(im)\n",
    "    im = cv2.cvtColor(im, cv2.COLOR_RGB2BGR)\n",
    "    im = np.int32(im)\n",
    "    im_arr = np.int32(im_arr) \n",
    "    temp = (im_arr - im[:,:,0:3])\n",
    "    return temp\n",
    "\n",
    "\n",
    "def classifier(protxt_file, caffemodel_file, myImagePath, gt):\n",
    "#     Get the model ready\n",
    "    net = get_net(protxt_file, caffemodel_file)\n",
    "#     print(\"loaded the net successfully\")\n",
    "    im = Image.open(myImagePath)\n",
    "    im_arr = np.asarray(im)\n",
    "    \n",
    "#     We need to rotate the image by 90 degrees\n",
    "    h,w,_ = np.shape(im_arr)\n",
    "    center = (w / 2, h / 2) \n",
    "    M = cv2.getRotationMatrix2D(center, 90, 1) \n",
    "    im_arr = cv2.warpAffine(im_arr, M, (h, w)) \n",
    "    \n",
    "#     fig1,ax1 = plt.subplots(1)\n",
    "#     ax1.imshow(im_arr)\n",
    "    \n",
    "    im_arr = cv2.cvtColor(im_arr, cv2.COLOR_RGB2BGR)\n",
    "#     im_arr = cv2.flip( im_arr, 0)  # Use this to flip images\n",
    "\n",
    "#     fig1,ax1 = plt.subplots(1)\n",
    "#     ax1.imshow(im_arr)\n",
    "#     im_arr = subtract_mean(im_arr) # use this for classifier_1500\n",
    "    \n",
    "    im_arr = normailize(im_arr)      # Needed for Signet-1024ss\n",
    "\n",
    "    im_data = im_arr.transpose((2,1,0))\n",
    "#     print(\"The shape of im_data is \", np.shape(im_data))\n",
    "    img_list = []\n",
    "    img_list.append(im_data)\n",
    "#     print(\"The shape of img_list is \", np.shape(img_list))\n",
    "    net.blobs['data'].reshape(*np.asarray(img_list).shape)\n",
    "    net.blobs['data'].data[...] = img_list\n",
    "    net.forward()\n",
    "    class_output = net.blobs['softmax'].data\n",
    "    return class_output"
   ]
  },
  {
   "cell_type": "code",
   "execution_count": 9,
   "metadata": {},
   "outputs": [
    {
     "name": "stdout",
     "output_type": "stream",
     "text": [
      "10000\n",
      "The predicted class is automobile\n",
      "The True class is automobile\n"
     ]
    }
   ],
   "source": [
    "data,gt = get_image()\n",
    "# data,gt = get_train_image()\n",
    "print(len(data))\n",
    "\n",
    "\n",
    "# Feed in the index of the image you want to evaluate\n",
    "index = 15\n",
    "pred = classifier(protxt_file, caffemodel_file, data[index], gt[index])\n",
    "# print(pred)\n",
    "li = pred[0]\n",
    "pos = np.argmax(li)\n",
    "# print(np.argmax(li))\n",
    "print(\"The predicted class is\", _classes[np.argmax(li)])\n",
    "print(\"The True class is\", gt[index])  # For testing\n",
    "# print(\"The True class is\", gt[index])    # For training"
   ]
  },
  {
   "cell_type": "code",
   "execution_count": 10,
   "metadata": {},
   "outputs": [
    {
     "name": "stdout",
     "output_type": "stream",
     "text": [
      "1\n"
     ]
    }
   ],
   "source": [
    "count = 0\n",
    "if (_classes[np.argmax(li)] == gt[index][:-4]):\n",
    "    print(\"1\")\n",
    "    \n",
    "# for training\n",
    "if (_classes[np.argmax(li)] == gt[index]):\n",
    "    print(\"1\")"
   ]
  },
  {
   "cell_type": "code",
   "execution_count": 210,
   "metadata": {},
   "outputs": [],
   "source": [
    "def evaluate():\n",
    "    score = 0\n",
    "    data,gt = get_image()\n",
    "    correct_class = []\n",
    "    wrong_class_gt = []\n",
    "    wrong_class_pred = []\n",
    "#     data,gt = get_train_image()\n",
    "    for index in range(0,len(data)-9700):\n",
    "        if (index%10==1):\n",
    "            print(\"The accuracy at index\",index-1,\"is\", score/index * 100, \"%\")\n",
    "        pred = classifier(protxt_file, caffemodel_file, data[index], gt[index])\n",
    "        li = pred[0]\n",
    "        if (_classes[np.argmax(li)] == gt[index]):   # For test images\n",
    "#         if (_classes[np.argmax(li)] == gt[index]):          # For train images\n",
    "            correct_class.append(_classes[np.argmax(li)])\n",
    "            score+=1\n",
    "#             print(_classes[np.argmax(li)], index)\n",
    "        else:\n",
    "            wrong_class_gt.append(gt[index])\n",
    "            wrong_class_pred.append(_classes[np.argmax(li)])\n",
    "    return score, wrong_class_gt, wrong_class_pred, correct_class"
   ]
  },
  {
   "cell_type": "code",
   "execution_count": 211,
   "metadata": {
    "scrolled": true
   },
   "outputs": [
    {
     "name": "stdout",
     "output_type": "stream",
     "text": [
      "The accuracy at index 0 is 100.0 %\n",
      "The accuracy at index 10 is 90.9090909090909 %\n",
      "The accuracy at index 20 is 90.47619047619048 %\n",
      "The accuracy at index 30 is 90.32258064516128 %\n",
      "The accuracy at index 40 is 90.2439024390244 %\n",
      "The accuracy at index 50 is 86.27450980392157 %\n",
      "The accuracy at index 60 is 85.24590163934425 %\n",
      "The accuracy at index 70 is 84.50704225352112 %\n",
      "The accuracy at index 80 is 83.9506172839506 %\n",
      "The accuracy at index 90 is 84.61538461538461 %\n",
      "The accuracy at index 100 is 84.15841584158416 %\n",
      "The accuracy at index 110 is 85.58558558558559 %\n",
      "The accuracy at index 120 is 86.77685950413223 %\n",
      "The accuracy at index 130 is 86.25954198473282 %\n",
      "The accuracy at index 140 is 86.52482269503547 %\n",
      "The accuracy at index 150 is 86.75496688741721 %\n",
      "The accuracy at index 160 is 84.472049689441 %\n",
      "The accuracy at index 170 is 84.21052631578947 %\n",
      "The accuracy at index 180 is 83.97790055248619 %\n",
      "The accuracy at index 190 is 84.29319371727748 %\n",
      "The accuracy at index 200 is 84.5771144278607 %\n",
      "The accuracy at index 210 is 83.88625592417061 %\n",
      "The accuracy at index 220 is 84.16289592760181 %\n",
      "The accuracy at index 230 is 84.4155844155844 %\n",
      "The accuracy at index 240 is 84.64730290456431 %\n",
      "The accuracy at index 250 is 84.86055776892431 %\n",
      "The accuracy at index 260 is 85.0574712643678 %\n",
      "The accuracy at index 270 is 85.23985239852398 %\n",
      "The accuracy at index 280 is 84.69750889679716 %\n",
      "The accuracy at index 290 is 84.19243986254295 %\n"
     ]
    }
   ],
   "source": [
    "ams, wrong_gt, wrong_pred, correct_pred = evaluate()"
   ]
  },
  {
   "cell_type": "code",
   "execution_count": 212,
   "metadata": {},
   "outputs": [
    {
     "name": "stdout",
     "output_type": "stream",
     "text": [
      "The Mean Precision is 0.8438900976400976\n"
     ]
    }
   ],
   "source": [
    "True_Positive = {x:correct_pred.count(x) for x in sorted(correct_pred)}\n",
    "False_Positive = {x:wrong_pred.count(x) for x in sorted(wrong_pred)}\n",
    "# print(True_Positive)\n",
    "# print(False_Positive)\n",
    "# print(True_Positive.values())\n",
    "# print(False_Positive.values())\n",
    "TP_keys = np.fromiter(True_Positive.values(), dtype=int)\n",
    "FP_keys = np.fromiter(False_Positive.values(), dtype=int)\n",
    "# print(TP_keys)\n",
    "# print(FP_keys)\n",
    "prec = np.asarray([TP_keys[i]/(TP_keys[i] + FP_keys[i]) for i in range(len(TP_keys))])\n",
    "print(\"The Mean Precision is\", np.mean(prec))\n",
    "# print(prec)"
   ]
  },
  {
   "cell_type": "code",
   "execution_count": 213,
   "metadata": {},
   "outputs": [],
   "source": [
    "import pandas\n",
    "from collections import Counter\n",
    "def plot_graph(a, title2):\n",
    "    class_count = Counter(a)\n",
    "    df = pandas.DataFrame.from_dict(class_count, orient='index')\n",
    "    df.plot(kind='bar', title = title2)\n",
    "    df.title = title"
   ]
  },
  {
   "cell_type": "code",
   "execution_count": 214,
   "metadata": {
    "scrolled": true
   },
   "outputs": [
    {
     "data": {
      "image/png": "[encoded data removed]",
      "text/plain": [
       "<Figure size 432x288 with 1 Axes>"
      ]
     },
     "metadata": {
      "needs_background": "light"
     },
     "output_type": "display_data"
    }
   ],
   "source": [
    "plot_graph(wrong_gt, \"GTs for wrong Predicitions\")"
   ]
  },
  {
   "cell_type": "code",
   "execution_count": 215,
   "metadata": {
    "scrolled": false
   },
   "outputs": [
    {
     "data": {
      "image/png": "[encoded data removed]",
      "text/plain": [
       "<Figure size 432x288 with 1 Axes>"
      ]
     },
     "metadata": {
      "needs_background": "light"
     },
     "output_type": "display_data"
    }
   ],
   "source": [
    "plot_graph(wrong_pred, \"Wrongly Predicted as: False Positive\")"
   ]
  },
  {
   "cell_type": "code",
   "execution_count": 216,
   "metadata": {},
   "outputs": [
    {
     "data": {
      "image/png": "[encoded data removed]",
      "text/plain": [
       "<Figure size 432x288 with 1 Axes>"
      ]
     },
     "metadata": {
      "needs_background": "light"
     },
     "output_type": "display_data"
    }
   ],
   "source": [
    "plot_graph(correct_pred, \"Correctly Classified: True Positive\")"
   ]
  },
  {
   "cell_type": "code",
   "execution_count": 217,
   "metadata": {},
   "outputs": [
    {
     "name": "stdout",
     "output_type": "stream",
     "text": [
      "0.7326999999999999\n"
     ]
    }
   ],
   "source": [
    "# SDK Calculation\n",
    "sdk = np.array([0.822,0.885,0.855, 0.817, 0.947, 0, 0.75, 0.714, 0.756, 0.781])\n",
    "print(np.mean(sdk))"
   ]
  },
  {
   "cell_type": "code",
   "execution_count": 11,
   "metadata": {},
   "outputs": [],
   "source": [
    "def get_pool(protxt_file, caffemodel_file, myImagePath, gt):\n",
    "#     Get the model ready\n",
    "    net = get_net(protxt_file, caffemodel_file)\n",
    "#     print(\"loaded the net successfully\")\n",
    "    im = Image.open(myImagePath)\n",
    "    im_arr = np.asarray(im)\n",
    "    \n",
    "#     We need to rotate the image by 90 degrees\n",
    "    h,w,_ = np.shape(im_arr)\n",
    "    center = (w / 2, h / 2) \n",
    "    M = cv2.getRotationMatrix2D(center, 90, 1) \n",
    "    im_arr = cv2.warpAffine(im_arr, M, (h, w)) \n",
    "    \n",
    "#     fig1,ax1 = plt.subplots(1)\n",
    "#     ax1.imshow(im_arr)\n",
    "    \n",
    "    im_arr = cv2.cvtColor(im_arr, cv2.COLOR_RGB2BGR)\n",
    "#     im_arr = cv2.flip( im_arr, 0)  # Use this to flip images\n",
    "\n",
    "#     fig1,ax1 = plt.subplots(1)\n",
    "#     ax1.imshow(im_arr)\n",
    "#     im_arr = subtract_mean(im_arr) # use this for classifier_1500\n",
    "    \n",
    "    im_arr = normailize(im_arr)      # Needed for Signet-1024ss\n",
    "\n",
    "    im_data = im_arr.transpose((2,1,0))\n",
    "#     print(\"The shape of im_data is \", np.shape(im_data))\n",
    "    img_list = []\n",
    "    img_list.append(im_data)\n",
    "#     print(\"The shape of img_list is \", np.shape(img_list))\n",
    "    net.blobs['data'].reshape(*np.asarray(img_list).shape)\n",
    "    net.blobs['data'].data[...] = img_list\n",
    "    net.forward()\n",
    "    class_output = net.blobs['global_pool'].data\n",
    "    return class_output"
   ]
  },
  {
   "cell_type": "code",
   "execution_count": 158,
   "metadata": {},
   "outputs": [
    {
     "data": {
      "text/plain": [
       "7500"
      ]
     },
     "execution_count": 158,
     "metadata": {},
     "output_type": "execute_result"
    }
   ],
   "source": [
    "def data_pool(index):\n",
    "#     This function return data given index\n",
    "    pool = get_pool(protxt_file, caffemodel_file, data[index], gt[index])\n",
    "    pool_data = pool[0 ,:,0]\n",
    "    return pool_data[:,0]\n",
    "\n",
    "# index_arr_train = (65,100,3, 70)\n",
    "# index_arr_train = tuple(i for i in range(5000))\n",
    "# img_list_input = list(map(data_pool, index_arr_train))\n",
    "# gt_list = [gt[i] for i in index_arr_train]\n",
    "\n",
    "data,gt = get_train_image()\n",
    "index_arr_train = tuple(i for i in range(7500))\n",
    "img_list_input = list(map(data_pool, index_arr_train))\n",
    "gt_list = [gt[i] for i in index_arr_train]\n",
    "\n",
    "# print(\"The training gts are\", gt_list)\n",
    "nemo = pynemo.nemo(dominance=1.6, m_learningRate=1, is_input_prenormalized=True)\n",
    "# nemo = pynemo.nemo()\n",
    "# nemo.learn(inputs=[[1, 2, 3, 4], [5, 6, 7, 8], [9, 10, 11, 12]], labels=[\"one\", \"two\", \"three\"])\n",
    "# predictions = nemo.predict_proba([[4, 5, 6, 7],[5, 6, 7, 8],[9, -10, 11, -12]], omit_nothing = False)\n",
    "# print(predictions)\n",
    "nemo.learn(inputs = np.asarray(img_list_input), labels = np.asarray(gt_list))"
   ]
  },
  {
   "cell_type": "code",
   "execution_count": null,
   "metadata": {},
   "outputs": [],
   "source": []
  },
  {
   "cell_type": "code",
   "execution_count": 159,
   "metadata": {},
   "outputs": [],
   "source": [
    "# # This block of code can be deleted\n",
    "\n",
    "# data,gt = get_nemo_test_image()\n",
    "# # data,gt = get_train_image() \n",
    "# # index_nemo_test = tuple(i for i in range(len(data)))     # Test for NEMO with blank images\n",
    "# img_list_test = list(map(data_pool, index_nemo_test))\n",
    "# gt_list_test =  [gt[i] for i in range(len(data))]\n",
    "# predictions = nemo.predict_proba(np.asarray(img_list_test), omit_nothing = False)\n",
    "# # print(\"The testing gts are\", gt_list_test[:])\n",
    "# print(gt)\n",
    "# print(predictions)"
   ]
  },
  {
   "cell_type": "code",
   "execution_count": 160,
   "metadata": {
    "scrolled": true
   },
   "outputs": [],
   "source": [
    "data,gt = get_image()\n",
    "index_arr_test = tuple(i for i in range(1000))\n",
    "img_list_test = list(map(data_pool, index_arr_test))\n",
    "gt_list_test =  [gt[i] for i in index_arr_test]\n",
    "predictions = nemo.predict_proba(img_list_test, omit_nothing = False)\n",
    "# print(\"The testing gts are\", gt_list_test[:])\n",
    "# print()\n",
    "# print(predictions)"
   ]
  },
  {
   "cell_type": "code",
   "execution_count": 161,
   "metadata": {},
   "outputs": [],
   "source": [
    "preds = predictions.idxmax(axis=1)\n",
    "# preds = re.sub('[$]', '', preds)\n",
    "pred_class = [preds[i] for i in range (len(preds))]\n",
    "# pred_class"
   ]
  },
  {
   "cell_type": "code",
   "execution_count": 162,
   "metadata": {},
   "outputs": [],
   "source": [
    "def evaluate_nemo(truth, pred):\n",
    "    correct_class = []\n",
    "    wrong_class_gt = []\n",
    "    wrong_class_pred = []\n",
    "    score = 0\n",
    "    for i in range(len(truth)):\n",
    "        if (truth[i] == pred[i]):\n",
    "            score += 1\n",
    "            correct_class.append(truth[i])\n",
    "        else:\n",
    "            wrong_class_gt.append(truth[i])\n",
    "            wrong_class_pred.append(pred[i])\n",
    "    return score, wrong_class_gt, wrong_class_pred, correct_class\n",
    "    "
   ]
  },
  {
   "cell_type": "code",
   "execution_count": 163,
   "metadata": {},
   "outputs": [
    {
     "name": "stdout",
     "output_type": "stream",
     "text": [
      "{'airplane': 85, 'automobile': 104, 'bird': 67, 'cat': 56, 'deer': 80, 'dog': 79, 'frog': 86, 'horse': 62, 'ship': 106, 'truck': 77}\n",
      "{'Nothing I know': 6, 'airplane': 28, 'automobile': 6, 'bird': 17, 'cat': 29, 'deer': 22, 'dog': 48, 'frog': 8, 'horse': 6, 'ship': 25, 'truck': 3}\n",
      "{'airplane': 28, 'automobile': 6, 'bird': 17, 'cat': 29, 'deer': 22, 'dog': 48, 'frog': 8, 'horse': 6, 'ship': 25, 'truck': 3}\n"
     ]
    }
   ],
   "source": [
    "score, wrong_gt, wrong_pred, correct_pred = evaluate_nemo(gt_list_test, pred_class)\n",
    "True_Positive = {x:correct_pred.count(x) for x in sorted(correct_pred)}\n",
    "False_Positive = {x:wrong_pred.count(x) for x in sorted(wrong_pred)}\n",
    "False_Positive2 = {x:wrong_pred.count(x) for x in sorted(correct_pred)}  # Does not include the 'Nothing I Know' class \n",
    "print(True_Positive)\n",
    "print(False_Positive)\n",
    "print(False_Positive2)"
   ]
  },
  {
   "cell_type": "code",
   "execution_count": 164,
   "metadata": {},
   "outputs": [
    {
     "name": "stdout",
     "output_type": "stream",
     "text": [
      "[0.7522123893805309, 0.9454545454545454, 0.7976190476190477, 0.6588235294117647, 0.7843137254901961, 0.6220472440944882, 0.9148936170212766, 0.9117647058823529, 0.8091603053435115, 0.9625]\n",
      "The Mean Precision is 0.8158789109697715\n"
     ]
    }
   ],
   "source": [
    "TP_keys = np.fromiter(True_Positive.values(), dtype=int)\n",
    "FP_keys = np.fromiter(False_Positive2.values(), dtype=int)\n",
    "# print(TP_keys)\n",
    "# print(FP_keys)\n",
    "print([TP_keys[i]/(TP_keys[i] + FP_keys[i]) for i in range(len(TP_keys))])\n",
    "prec = np.asarray([TP_keys[i]/(TP_keys[i] + FP_keys[i]) for i in range(len(TP_keys))])\n",
    "print(\"The Mean Precision is\", np.mean(prec))"
   ]
  },
  {
   "cell_type": "code",
   "execution_count": 135,
   "metadata": {},
   "outputs": [],
   "source": [
    "# first 100 train images accuracy 0.82816 (5 Nothing I know)\n",
    "# first 200 train images accuracy 0.83063 (No Nothing I know)\n",
    "# first 300 train images accuracy 0.80824 (No Nothing I know)\n",
    "# first 500 train images accuracy 0.78962 (No Nothing I know)\n",
    "# first 700 train images accuracy 0.80020 (1 Nothing I know)\n",
    "# first 800 train images accuracy 0.81594 (No Nothing I know)\n",
    "# first 1000 train images accuracy 0.81923 (No Nothing I know)\n",
    "# first 5000 train images accuracy 0.78898 (No Nothing I know)\n",
    "\n",
    "\n",
    "# New parameters lr = 1; Dominance = 1.6\n",
    "\n",
    "# first 200 train images accuracy 0.8152135 (No Nothing I know)\n",
    "# first 800 train images accuracy 0.8076394 (1 Nothing I know)\n",
    "# first 1000 train images accuracy 0.826825 (21 Nothing I know)\n",
    "# first 2500 train images accuracy 0.8423193 (24 Nothing I know)\n",
    "# first 5000 train images accuracy 0.8097814 (16 Nothing I know)\n",
    "# first 7500 train images accuracy 0. ( Nothing I know)\n"
   ]
  },
  {
   "cell_type": "code",
   "execution_count": 138,
   "metadata": {},
   "outputs": [],
   "source": [
    "mAP = [0.82816, 0.83063, 0.80824, 0.78962, 0.80020, 0.81594, 0.81923, 0.78898]\n",
    "num_images = [100,200,300,500,700,800,1000,5000]"
   ]
  },
  {
   "cell_type": "code",
   "execution_count": 148,
   "metadata": {
    "scrolled": true
   },
   "outputs": [
    {
     "data": {
      "image/png": "[encoded data removed]",
      "text/plain": [
       "<Figure size 432x288 with 1 Axes>"
      ]
     },
     "metadata": {
      "needs_background": "light"
     },
     "output_type": "display_data"
    }
   ],
   "source": [
    "plt.plot(num_images, mAP)\n",
    "plt.xlabel('Number of Train Images')\n",
    "plt.ylabel('mAP')\n",
    "plt.axis([None, None, 0.7, 0.85])\n",
    "plt.title(\"Tested on 1000 images\")\n",
    "plt.show()"
   ]
  },
  {
   "cell_type": "code",
   "execution_count": 14,
   "metadata": {},
   "outputs": [],
   "source": [
    "def get_nemo_test_image():\n",
    "    \"\"\"\n",
    "    Function to load image locations, corresponding ground truth classes for classification from test\n",
    "    \n",
    "    return:\n",
    "    A list with each individual image of the form\n",
    "    [Image_location in str], [Ground truth of image classification]\n",
    "    \"\"\"\n",
    "    # Reference the directory of the GVDL folder\n",
    "    img_loc = path + '/nemo_test.list'\n",
    "    data = [] \n",
    "    gt = []\n",
    "    count = 0\n",
    "    with open(img_loc, 'r') as f:\n",
    "        reader = csv.reader(f, dialect='excel', delimiter='-')\n",
    "        for row in reader:\n",
    "            count += 1\n",
    "            if (count == 5):\n",
    "                break\n",
    "            data.append(path + '/nemo_test/' + row[0] + '-' + row[1])\n",
    "            gt.append(row[1][:-4])\n",
    "    return data, gt"
   ]
  },
  {
   "cell_type": "code",
   "execution_count": 183,
   "metadata": {},
   "outputs": [
    {
     "data": {
      "image/png": "[encoded data removed]",
      "text/plain": [
       "<Figure size 432x288 with 1 Axes>"
      ]
     },
     "metadata": {
      "needs_background": "light"
     },
     "output_type": "display_data"
    },
    {
     "data": {
      "image/png": "[encoded data removed]",
      "text/plain": [
       "<Figure size 432x288 with 1 Axes>"
      ]
     },
     "metadata": {
      "needs_background": "light"
     },
     "output_type": "display_data"
    },
    {
     "data": {
      "image/png": "[encoded data removed]",
      "text/plain": [
       "<Figure size 432x288 with 1 Axes>"
      ]
     },
     "metadata": {
      "needs_background": "light"
     },
     "output_type": "display_data"
    },
    {
     "data": {
      "image/png": "[encoded data removed]",
      "text/plain": [
       "<Figure size 432x288 with 1 Axes>"
      ]
     },
     "metadata": {
      "needs_background": "light"
     },
     "output_type": "display_data"
    }
   ],
   "source": [
    "data,gt = get_nemo_test_image()\n",
    "index_nemo_test = tuple(i for i in range(len(data)))\n",
    "img_list_test = list(map(data_pool, index_nemo_test))\n",
    "gt_list_test =  [gt[i] for i in range(len(data))]\n",
    "predictions = nemo.predict_proba(img_list_test, omit_nothing = False)\n",
    "# print(\"The testing gts are\", gt_list_test[:])"
   ]
  },
  {
   "cell_type": "code",
   "execution_count": 185,
   "metadata": {},
   "outputs": [
    {
     "name": "stdout",
     "output_type": "stream",
     "text": [
      "['blank', 'blank', 'blank', 'blank']\n",
      "   Nothing I know  frog  truck  deer  automobile  bird  horse      ship  \\\n",
      "0             0.0   0.0    0.0   0.0         0.0   0.0    0.0  0.474473   \n",
      "1             0.0   0.0    0.0   0.0         0.0   0.0    0.0  0.000000   \n",
      "2             0.0   0.0    0.0   0.0         0.0   0.0    0.0  0.473480   \n",
      "3             0.0   0.0    0.0   0.0         0.0   0.0    0.0  0.426558   \n",
      "\n",
      "        cat  airplane  dog  \n",
      "0  0.000000  0.525527  0.0  \n",
      "1  0.443615  0.556385  0.0  \n",
      "2  0.000000  0.526520  0.0  \n",
      "3  0.000000  0.573442  0.0  \n"
     ]
    }
   ],
   "source": [
    "print(gt)\n",
    "print(predictions)"
   ]
  },
  {
   "cell_type": "code",
   "execution_count": null,
   "metadata": {},
   "outputs": [],
   "source": [
    "nemo = pynemo.nemo(m_maxBatchSize=400\n",
    "                       , m_maxNumNodes=400\n",
    "                       , vigilance=0.01\n",
    "                       , m_matchTracking=0.001\n",
    "                       , m_learningRate=1.0\n",
    "                       , m_instanceCounting=True\n",
    "                       , m_complementCoding=False\n",
    "                       , dominance=1.0\n",
    "                       , goodness=100.0\n",
    "                       , m_maxNodesPerClass=400\n",
    "                       , m_postNormalize=1\n",
    "                       , requested_threads=1\n",
    "                       , classifier_type=\"Vector\"\n",
    "                       , device_index=-1\n",
    "                       , is_input_prenormalized=False)\n",
    "\n",
    "# \tngap::ExpectationMatcherParameters nemoParams;\n",
    "# \tnemoParams.m_vigilance = 0.01;\n",
    "# \tnemoParams.m_dominance = 1.25;\n",
    "# \tnemoParams.m_goodness = 2.75;\n",
    "# \tnemoParams.m_matchTracking = -0.1;\n",
    "# \tnemoParams.m_inputPrenormalized = true;"
   ]
  }
 ],
 "metadata": {
  "kernelspec": {
   "display_name": "Python 3",
   "language": "python",
   "name": "python3"
  },
  "language_info": {
   "codemirror_mode": {
    "name": "ipython",
    "version": 3
   },
   "file_extension": ".py",
   "mimetype": "text/x-python",
   "name": "python",
   "nbconvert_exporter": "python",
   "pygments_lexer": "ipython3",
   "version": "3.6.8"
  }
 },
 "nbformat": 4,
 "nbformat_minor": 2
}
