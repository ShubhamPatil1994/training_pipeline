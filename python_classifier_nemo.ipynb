{
 "cells": [
  {
   "cell_type": "code",
   "execution_count": 2,
   "metadata": {},
   "outputs": [
    {
     "name": "stdout",
     "output_type": "stream",
     "text": [
      "GPU mode\n",
      "OK\n"
     ]
    }
   ],
   "source": [
    "# Code to evaluate the performance of the classifier layer using NEMO Classifier\n",
    "\n",
    "# Import Libraries\n",
    "\n",
    "#from ConfigParser import SafeConfigParser\n",
    "from PIL import Image, ExifTags\n",
    "\n",
    "#import pynemo\n",
    "import multiprocessing\n",
    "import scipy.ndimage\n",
    "import numpy as np\n",
    "%matplotlib inline\n",
    "from pylab import *\n",
    "import caffe\n",
    "#import h5py\n",
    "import time\n",
    "import cv2\n",
    "import os\n",
    "import csv\n",
    "import scipy \n",
    "import matplotlib.pyplot as plt\n",
    "import matplotlib.patches as patches\n",
    "import math\n",
    "\n",
    "#sys.path.append('utils')\n",
    "from utils.TrainNet import train, trainXSteps\n",
    "from utils.Vis import vis_make_palette, vis_color_seg, checkEXIFRotation\n",
    "\n",
    "# caffe.set_mode_cpu()\n",
    "# print(\"CPU mode\")\n",
    "\n",
    "caffe.set_mode_gpu()\n",
    "caffe.set_device(0)\n",
    "# caffe.set_mode_cpu()\n",
    "\n",
    "print(\"GPU mode\")\n",
    "\n",
    "print('OK')"
   ]
  },
  {
   "cell_type": "code",
   "execution_count": 3,
   "metadata": {},
   "outputs": [],
   "source": [
    "def get_net(protxt_file, caffemodel_file):\n",
    "    # This function returns the caffemodel\n",
    "    return caffe.Net( protxt_file, caffemodel_file, caffe.TEST)\n",
    "\n",
    "# protxt_file = '/opt/caffe/neurala/training-pipeline/models/FullDenseNet/FullDenseNet-Forward.prototxt'\n",
    "protxt_file = '/opt/caffe/neurala/training-pipeline/models/classifier/CIFAR_model/architecture_files/signet1024ss-10.prototxt'\n",
    "# protxt_file = '/opt/caffe/neurala/training-pipeline/models/classifier/classifier_1500/deploy.prototxt'\n",
    "# caffemodel_file = '/opt/caffe/neurala/training-pipeline/models/weights/snapshot_iter_40000.caffemodel'\n",
    "caffemodel_file = '/opt/caffe/neurala/training-pipeline/models/classifier/CIFAR_model/CIFAR_caffemodels/signet1024ss-CIFAR-10.caffemodel'\n",
    "# caffemodel_file = '/opt/caffe/neurala/training-pipeline/models/classifier/classifier_1500/snapshot_iter_1550.caffemodel'\n",
    "\n",
    "# net = get_net(protxt_file, caffemodel_file)"
   ]
  },
  {
   "cell_type": "code",
   "execution_count": 4,
   "metadata": {},
   "outputs": [],
   "source": [
    "path = '/opt/caffe/neurala/training-pipeline/models/classifier/CIFAR_dataset/data'"
   ]
  },
  {
   "cell_type": "code",
   "execution_count": 5,
   "metadata": {},
   "outputs": [
    {
     "name": "stdout",
     "output_type": "stream",
     "text": [
      "automobile\n",
      "{0: 'airplane', 1: 'automobile', 2: 'bird', 3: 'cat', 4: 'deer', 5: 'dog', 6: 'frog', 7: 'horse', 8: 'ship', 9: 'truck'}\n"
     ]
    }
   ],
   "source": [
    "labels = \"\"\"airplane\n",
    "automobile\n",
    "bird\n",
    "cat\n",
    "deer\n",
    "dog\n",
    "frog\n",
    "horse\n",
    "ship\n",
    "truck\"\"\"\n",
    "\n",
    "_classes = {i: v.replace(' ', '_') for i, v in enumerate(labels.split('\\n'))}\n",
    "\n",
    "print(_classes[1])\n",
    "print(_classes)"
   ]
  },
  {
   "cell_type": "code",
   "execution_count": 6,
   "metadata": {},
   "outputs": [],
   "source": [
    "def get_image():\n",
    "    \"\"\"\n",
    "    Function to load image locations, corresponding ground truth classes for classification from test\n",
    "\n",
    "    return:\n",
    "    A list with each individual image of the form\n",
    "    [Image_location in str], [Ground truth of image classification]\n",
    "    \"\"\"\n",
    "    # Reference the directory of the GVDL folder\n",
    "    img_loc = path + '/test.list'\n",
    "    data = [] \n",
    "    gt = []\n",
    "    with open(img_loc, 'r') as f:\n",
    "        reader = csv.reader(f, dialect='excel', delimiter='-')\n",
    "        for row in reader:\n",
    "            data.append(path + '/test/' + row[0] + '-' + row[1])\n",
    "            gt.append(row[1])\n",
    "    return data, gt\n",
    "\n",
    "def get_train_image():\n",
    "    \"\"\"\n",
    "    Function to load image locations, corresponding ground truth classes for classification from train\n",
    "\n",
    "    return:\n",
    "    A list with each individual image of the form\n",
    "    [Image_location in str], [Ground truth of image classification]\n",
    "    \"\"\"\n",
    "    # Reference the directory of the GVDL folder\n",
    "    img_loc = path + '/train.list'\n",
    "    data = [] \n",
    "    gt = []\n",
    "    with open(img_loc, 'r') as f:\n",
    "        reader = csv.reader(f, dialect='excel')\n",
    "        for row in reader:\n",
    "#             print(row[0])\n",
    "            data.append(path + '/train/' + row[0])\n",
    "#             print(row[0].split(\"-\")[2][:-4])\n",
    "            gt.append(row[0].split(\"-\")[2][:-4])\n",
    "    return data, gt"
   ]
  },
  {
   "cell_type": "code",
   "execution_count": 7,
   "metadata": {},
   "outputs": [],
   "source": [
    "def normailize(im_arr):\n",
    "    range = im_arr.max() - im_arr.min() \n",
    "    im_arr = (im_arr - im_arr.min()) / range - 0.5\n",
    "    return im_arr\n",
    "\n",
    "def subtract_mean(im_arr):\n",
    "    # This function was needed for classifier_1500 model which has a great accuracy. It needs mean subtraction\n",
    "    im_src = '/opt/caffe/neurala/training-pipeline/models/classifier/classifier_1500/image.png'\n",
    "    im = Image.open(im_src)\n",
    "    im = np.asarray(im)\n",
    "    im = cv2.cvtColor(im, cv2.COLOR_RGB2BGR)\n",
    "    im = np.int32(im)\n",
    "    im_arr = np.int32(im_arr) \n",
    "    temp = (im_arr - im[:,:,0:3])\n",
    "    return temp\n",
    "\n",
    "\n",
    "def classifier(protxt_file, caffemodel_file, myImagePath, gt):\n",
    "#     Get the model ready\n",
    "    net = get_net(protxt_file, caffemodel_file)\n",
    "#     print(\"loaded the net successfully\")\n",
    "    im = Image.open(myImagePath)\n",
    "    im_arr = np.asarray(im)\n",
    "    \n",
    "#     We need to rotate the image by 90 degrees\n",
    "    h,w,_ = np.shape(im_arr)\n",
    "    center = (w / 2, h / 2) \n",
    "    M = cv2.getRotationMatrix2D(center, 90, 1) \n",
    "    im_arr = cv2.warpAffine(im_arr, M, (h, w)) \n",
    "    \n",
    "#     fig1,ax1 = plt.subplots(1)\n",
    "#     ax1.imshow(im_arr)\n",
    "    \n",
    "    im_arr = cv2.cvtColor(im_arr, cv2.COLOR_RGB2BGR)\n",
    "#     im_arr = cv2.flip( im_arr, 0)  # Use this to flip images\n",
    "\n",
    "#     fig1,ax1 = plt.subplots(1)\n",
    "#     ax1.imshow(im_arr)\n",
    "#     im_arr = subtract_mean(im_arr) # use this for classifier_1500\n",
    "    \n",
    "    im_arr = normailize(im_arr)      # Needed for Signet-1024ss\n",
    "\n",
    "    im_data = im_arr.transpose((2,1,0))\n",
    "#     print(\"The shape of im_data is \", np.shape(im_data))\n",
    "    img_list = []\n",
    "    img_list.append(im_data)\n",
    "#     print(\"The shape of img_list is \", np.shape(img_list))\n",
    "    net.blobs['data'].reshape(*np.asarray(img_list).shape)\n",
    "    net.blobs['data'].data[...] = img_list\n",
    "    net.forward()\n",
    "    class_output = net.blobs['softmax'].data\n",
    "    return class_output"
   ]
  },
  {
   "cell_type": "code",
   "execution_count": 29,
   "metadata": {},
   "outputs": [
    {
     "name": "stdout",
     "output_type": "stream",
     "text": [
      "10000\n",
      "The predicted class is automobile\n",
      "The True class is automobile\n"
     ]
    }
   ],
   "source": [
    "data,gt = get_image()\n",
    "# data,gt = get_train_image()\n",
    "print(len(data))\n",
    "\n",
    "\n",
    "# Feed in the index of the image you want to evaluate\n",
    "index = 15\n",
    "pred = classifier(protxt_file, caffemodel_file, data[index], gt[index])\n",
    "# print(pred)\n",
    "li = pred[0]\n",
    "pos = np.argmax(li)\n",
    "# print(np.argmax(li))\n",
    "print(\"The predicted class is\", _classes[np.argmax(li)])\n",
    "print(\"The True class is\", gt[index][:-4])  # For testing\n",
    "# print(\"The True class is\", gt[index])    # For training"
   ]
  },
  {
   "cell_type": "code",
   "execution_count": 11,
   "metadata": {},
   "outputs": [
    {
     "name": "stdout",
     "output_type": "stream",
     "text": [
      "1\n"
     ]
    }
   ],
   "source": [
    "count = 0\n",
    "if (_classes[np.argmax(li)] == gt[index][:-4]):\n",
    "    print(\"1\")\n",
    "    \n",
    "# for training\n",
    "if (_classes[np.argmax(li)] == gt[index]):\n",
    "    print(\"1\")"
   ]
  },
  {
   "cell_type": "code",
   "execution_count": 12,
   "metadata": {},
   "outputs": [],
   "source": [
    "def evaluate():\n",
    "    score = 0\n",
    "    data,gt = get_image()\n",
    "    correct_class = []\n",
    "    wrong_class_gt = []\n",
    "    wrong_class_pred = []\n",
    "#     data,gt = get_train_image()\n",
    "    for index in range(0,len(data)-9700):\n",
    "        if (index%100==1):\n",
    "            print(\"The accuracy at index\",index-1,\"is\", score/index * 100, \"%\")\n",
    "        pred = classifier(protxt_file, caffemodel_file, data[index], gt[index])\n",
    "        li = pred[0]\n",
    "        if (_classes[np.argmax(li)] == gt[index][:-4]):   # For test images\n",
    "#         if (_classes[np.argmax(li)] == gt[index]):          # For train images\n",
    "            correct_class.append(_classes[np.argmax(li)])\n",
    "            score+=1\n",
    "#             print(_classes[np.argmax(li)], index)\n",
    "        else:\n",
    "            wrong_class_gt.append(gt[index][:-4])\n",
    "            wrong_class_pred.append(_classes[np.argmax(li)])\n",
    "    return score, wrong_class_gt, wrong_class_pred, correct_class"
   ]
  },
  {
   "cell_type": "code",
   "execution_count": 13,
   "metadata": {
    "scrolled": true
   },
   "outputs": [
    {
     "name": "stdout",
     "output_type": "stream",
     "text": [
      "The accuracy at index 0 is 100.0 %\n",
      "The accuracy at index 100 is 84.15841584158416 %\n",
      "The accuracy at index 200 is 84.5771144278607 %\n"
     ]
    }
   ],
   "source": [
    "ams, wrong_gt, wrong_pred, correct_pred = evaluate()"
   ]
  },
  {
   "cell_type": "code",
   "execution_count": 28,
   "metadata": {},
   "outputs": [
    {
     "name": "stdout",
     "output_type": "stream",
     "text": [
      "The Mean Precision is 0.8438900976400976\n"
     ]
    }
   ],
   "source": [
    "True_Positive = {x:correct_pred.count(x) for x in sorted(correct_pred)}\n",
    "False_Positive = {x:wrong_pred.count(x) for x in sorted(wrong_pred)}\n",
    "# print(True_Positive)\n",
    "# print(False_Positive)\n",
    "# print(True_Positive.values())\n",
    "# print(False_Positive.values())\n",
    "TP_keys = np.fromiter(True_Positive.values(), dtype=int)\n",
    "FP_keys = np.fromiter(False_Positive.values(), dtype=int)\n",
    "# print(TP_keys)\n",
    "# print(FP_keys)\n",
    "prec = np.asarray([TP_keys[i]/(TP_keys[i] + FP_keys[i]) for i in range(len(TP_keys))])\n",
    "print(\"The Mean Precision is\", np.mean(prec))\n",
    "# print(prec)"
   ]
  },
  {
   "cell_type": "code",
   "execution_count": 21,
   "metadata": {},
   "outputs": [],
   "source": [
    "import pandas\n",
    "from collections import Counter\n",
    "def plot_graph(a, title2):\n",
    "    class_count = Counter(a)\n",
    "    df = pandas.DataFrame.from_dict(class_count, orient='index')\n",
    "    df.plot(kind='bar', title = title2)\n",
    "    df.title = title"
   ]
  },
  {
   "cell_type": "code",
   "execution_count": 23,
   "metadata": {
    "scrolled": true
   },
   "outputs": [
    {
     "data": {
      "image/png": "[encoded data removed]",
      "text/plain": [
       "<Figure size 432x288 with 1 Axes>"
      ]
     },
     "metadata": {
      "needs_background": "light"
     },
     "output_type": "display_data"
    }
   ],
   "source": [
    "plot_graph(wrong_gt, \"GTs for wrong Predicitions\")"
   ]
  },
  {
   "cell_type": "code",
   "execution_count": 24,
   "metadata": {
    "scrolled": false
   },
   "outputs": [
    {
     "data": {
      "image/png": "[encoded data removed]",
      "text/plain": [
       "<Figure size 432x288 with 1 Axes>"
      ]
     },
     "metadata": {
      "needs_background": "light"
     },
     "output_type": "display_data"
    }
   ],
   "source": [
    "plot_graph(wrong_pred, \"Wrongly Predicted as: False Positive\")"
   ]
  },
  {
   "cell_type": "code",
   "execution_count": 25,
   "metadata": {},
   "outputs": [
    {
     "data": {
      "image/png": "[encoded data removed]",
      "text/plain": [
       "<Figure size 432x288 with 1 Axes>"
      ]
     },
     "metadata": {
      "needs_background": "light"
     },
     "output_type": "display_data"
    }
   ],
   "source": [
    "plot_graph(correct_pred, \"Correctly Classified: True Positive\")"
   ]
  },
  {
   "cell_type": "code",
   "execution_count": 26,
   "metadata": {},
   "outputs": [
    {
     "name": "stdout",
     "output_type": "stream",
     "text": [
      "0.7326999999999999\n"
     ]
    }
   ],
   "source": [
    "# SDK Calculation\n",
    "sdk = np.array([0.822,0.885,0.855, 0.817, 0.947, 0, 0.75, 0.714, 0.756, 0.781])\n",
    "print(np.mean(sdk))"
   ]
  },
  {
   "cell_type": "code",
   "execution_count": null,
   "metadata": {},
   "outputs": [],
   "source": []
  },
  {
   "cell_type": "code",
   "execution_count": null,
   "metadata": {},
   "outputs": [],
   "source": []
  }
 ],
 "metadata": {
  "kernelspec": {
   "display_name": "Python 3",
   "language": "python",
   "name": "python3"
  },
  "language_info": {
   "codemirror_mode": {
    "name": "ipython",
    "version": 3
   },
   "file_extension": ".py",
   "mimetype": "text/x-python",
   "name": "python",
   "nbconvert_exporter": "python",
   "pygments_lexer": "ipython3",
   "version": "3.6.8"
  }
 },
 "nbformat": 4,
 "nbformat_minor": 2
}
