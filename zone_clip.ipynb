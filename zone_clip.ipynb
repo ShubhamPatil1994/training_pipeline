{
 "cells": [
  {
   "cell_type": "code",
   "execution_count": 1,
   "metadata": {},
   "outputs": [],
   "source": [
    "# Python notebook to study the effects of improper BBoxes fed to NEMO classifier\n",
    "\n",
    "import time, os, sys, warnings\n",
    "import os.path as osp\n",
    "import numpy as np\n",
    "\n",
    "%matplotlib inline\n",
    "from pylab import *\n",
    "import pydot\n",
    "import matplotlib.patches as patches\n",
    "\n",
    "import caffe\n",
    "import pynemo\n",
    "from PIL import ImageDraw, Image\n",
    "import csv\n",
    "from caffe import layers as L, params as P\n",
    "from caffe.proto import caffe_pb2\n",
    "import caffe.draw\n",
    "\n",
    "from IPython.display import Image, display\n",
    "\n",
    "import cv2\n",
    "from PIL import Image\n",
    "# from easydict import EasyDict as edict\n",
    "# from easydict import EasyDict\n",
    "\n",
    "caffe.set_device(1)\n",
    "caffe.set_mode_gpu()"
   ]
  },
  {
   "cell_type": "code",
   "execution_count": 2,
   "metadata": {},
   "outputs": [],
   "source": [
    "# get the data loader here\n",
    "\n",
    "# Helper functions for loading data\n",
    "\n",
    "def get_cord(txt_loc):\n",
    "    cord = []\n",
    "    with open(txt_loc, 'r') as f:\n",
    "        reader = csv.reader(f, dialect='excel', delimiter='\\t')\t\t\n",
    "        cord_arr = np.zeros(4) \n",
    "        for row in reader:\n",
    "            \"\"\"\n",
    "            The below stuff is required if the a$$nuckle who created the bboxes txt file didn't tab delimit \n",
    "            but instead used spaces\n",
    "            \"\"\"\n",
    "            if (len(row) == 1):\n",
    "                row = row[0].split()\n",
    "            img_class = row[0]\n",
    "            cord.append(row[0])\n",
    "            cord_arr[0] = float(row[4])\n",
    "            cord_arr[1] = float(row[5])\n",
    "            cord_arr[2] = float(row[6])\n",
    "            cord_arr[3] = float(row[7])\n",
    "            cord.append(cord_arr)\n",
    "            cord_arr = np.zeros(4)\n",
    "    f.close()\n",
    "    return cord\n",
    "\n",
    "def data_loader(path, mode, return_img = False):\n",
    "    \"\"\"\n",
    "    Function to load image locations, corresponding classes and BBoxes contained withing a list file\n",
    "\n",
    "    return:\n",
    "    A list with each individual image of the form\n",
    "    [Image_location in str, Image_Class, BBox in []]\n",
    "    \"\"\"\n",
    "    # Reference the directory of the GVDL folder\n",
    "    img_loc = path + mode + '.list'\n",
    "    data = [] \n",
    "    with open(img_loc, 'r') as f:\n",
    "        reader = csv.reader(f, dialect='excel', delimiter='\\t')\t\t\n",
    "        for row in reader:\n",
    "            # seperate test-case for COCO\n",
    "            if (path[-5:-1] == 'COCO'):   \n",
    "                text = row[0][0:5] + '-labels/' + row[0][-16:-3] + 'txt'\n",
    "            # for VOC and GVDL-D\n",
    "            else:\n",
    "                if (mode == 'test'):\n",
    "                    text = row[0][0:5] + 'labels'+ row[0][11:-3] + 'txt' \n",
    "                if (mode == 'validation'):\n",
    "#                     print(row[0])\n",
    "#                     print(row[0][0:11]+ 'labels'+ row[0][15:-3])\n",
    "                    text = row[0][0:11] + 'labels'+ row[0][17:-3] + 'txt' \n",
    "                if (mode == 'train'):\n",
    "#                     print(row[0])\n",
    "#                     print(row[0][0:6]+ 'labels'+ row[0][12:-3])\n",
    "                    text = row[0][0:6] + 'labels' + row[0][12:-3] + 'txt'\n",
    "            cord = get_cord(path + text)\n",
    "#             print(cord[1])\n",
    "            img = Image.open(path + row[0])\n",
    "            if (len(np.shape(img))!=3):\n",
    "                img = np.asarray(img)\n",
    "                img = np.repeat(img[:, :, np.newaxis], 3, axis=2)\n",
    "#             print(np.shape(img))\n",
    "            cord[1] = normalized_cord(img,cord[1])\n",
    "#             print(cord[1])\n",
    "            if (return_img == False):\n",
    "                data.append([path + row[0], cord])\n",
    "            else:\n",
    "#                 print(\"Demanding images\")\n",
    "                data.append([Image.open(path + row[0]), cord])\n",
    "                \n",
    "    \"\"\" The following code is to verify the dataloader \n",
    "        Please give the index of the image file you want to load; the code will take care of the txt file\n",
    "        To verify, give a particular index\n",
    "    \"\"\"\n",
    "#     print(len(data))\n",
    "    return data\n",
    "\n",
    "def normalized_cord(image, cord):\n",
    "#     function to normalize the cordinates\n",
    "    y, x,_ = np.shape(image)\n",
    "    x_top, y_top, x_bottom, y_bottom = cord\n",
    "    return x_top/x, y_top/y, x_bottom/x, y_bottom/y"
   ]
  },
  {
   "cell_type": "code",
   "execution_count": 3,
   "metadata": {},
   "outputs": [],
   "source": [
    "# To load the GVDL data\n",
    "data_train = data_loader('/opt/caffe/neurala/training-pipeline/models/FullDenseNet/GVDL-D/', 'train', return_img = False)\n",
    "data_test = data_loader('/opt/caffe/neurala/training-pipeline/models/FullDenseNet/GVDL-D/', 'validation', return_img = False)\n",
    "# data_valid = data_loader('/opt/caffe/neurala/training-pipeline/models/FullDenseNet/GVDL-D/', 'validation', return_img = False)"
   ]
  },
  {
   "cell_type": "code",
   "execution_count": 4,
   "metadata": {},
   "outputs": [],
   "source": [
    "def loadBatch(net, processed_ims):\n",
    "    \n",
    "    num_images = len(processed_ims)\n",
    "    max_shape = np.array([im.shape for im in processed_ims]).max(axis=0)\n",
    "    \n",
    "    # Blob placeholder\n",
    "    blob = np.zeros((num_images, max_shape[0], max_shape[1], 3),dtype=np.float32)\n",
    "\n",
    "    \n",
    "    # load images into blob placeholder\n",
    "    #==================================================\n",
    "    for i in range(num_images):\n",
    "        im = processed_ims[i]\n",
    "#         print(i)\n",
    "        blob[i, 0:im.shape[0], 0:im.shape[1], :] = im\n",
    "    \n",
    "\n",
    "    # Change Channels in Caffe format\n",
    "    #==================================================\n",
    "    channel_swap = (0, 3, 1, 2)   # Original    \n",
    "    blob = blob.transpose(channel_swap)\n",
    "\n",
    "\n",
    "#     im_scales = np.array(im_scale_factors)\n",
    "\n",
    "    blobs = {'data' : None}\n",
    "    blobs['data'] = blob\n",
    "    im_blob = blobs['data']\n",
    "    # reshape network inputs\n",
    "    net.blobs['data'].reshape(*(blobs['data'].shape))\n",
    "    return {'data': blobs['data'].astype(np.float32, copy=False)}"
   ]
  },
  {
   "cell_type": "code",
   "execution_count": 5,
   "metadata": {},
   "outputs": [],
   "source": [
    "def forward(img, cord):\n",
    "#     print(cord)\n",
    "    net =  caffe.Net('/opt/caffe/neurala/training-pipeline/models/classifier/complete_model/GorchNet-512.prototxt',\n",
    "                     '/opt/caffe/neurala/training-pipeline/models/classifier/complete_model/GorchNet-512.caffemodel',\n",
    "                     caffe.TEST)\n",
    "    blobs_out = net.forward(**loadBatch(net,[img]))\n",
    "#     print(np.shape(img))\n",
    "#     out = loadBatch(net,img)\n",
    "    mydata = net.blobs['cascade192/output'].data\n",
    "#     index = 0\n",
    "#     output = np.squeeze(mydata[0,index,:,:])\n",
    "#     plt.imshow(output)\n",
    "    \n",
    "    \n",
    "#     must get the labels ready\n",
    "#     print(np.shape(mydata.tolist()))\n",
    "#     print(np.shape(cord))\n",
    "    cord = np.reshape(cord,(1,1,1,5))\n",
    "\n",
    "#     print(np.shape(cord))\n",
    "    net3 = caffe.Net('/opt/caffe/neurala/training-pipeline/models/classifier/complete_model/complete_model_gorchnet.prototxt',\n",
    "                     '/opt/caffe/neurala/training-pipeline/models/classifier/complete_model/GorchNet-ROI.caffemodel',\n",
    "                    caffe.TEST)\n",
    "    net3.blobs['data'].data[...] = mydata.tolist()\n",
    "    net3.blobs['bboxes'].data[...] = cord.tolist()\n",
    "    class_output = net3.forward()\n",
    "    out =  net3.blobs['global_pool'].data\n",
    "    roi = net3.blobs['roi_pool'].data\n",
    "#     print(np.shape(net3.blobs['roi_pool'].data[...]))\n",
    "#     print(np.shape(out))\n",
    "    return out"
   ]
  },
  {
   "cell_type": "code",
   "execution_count": 6,
   "metadata": {},
   "outputs": [],
   "source": [
    "# Following fucntion comes with Image visualization; for main purpose use the scale_cord function\n",
    "def update_cord(cord_arr,scale = 1):\n",
    "    #     function to display the image being passed to the network \n",
    "    x_top, y_top, x_bottom, y_bottom = cord_arr[1:]\n",
    "    img_dim = 1\n",
    "    center = np.array([(x_top + x_bottom)/2, (y_top + y_bottom)/2])\n",
    "    dims = np.array([x_bottom-center[0],y_bottom-center[1]])\n",
    "    x_center, y_center = center[0], center[1]\n",
    "    x_top = x_center-dims[0]*scale\n",
    "    if (x_top < 0):\n",
    "        x_top = 0\n",
    "    y_top = y_center-dims[1]*scale\n",
    "    if (y_top < 0):\n",
    "        y_top = 0\n",
    "    x_bottom = x_center+dims[0]*scale\n",
    "    if (x_bottom > img_dim):\n",
    "        x_bottom = img_dim\n",
    "    y_bottom = y_center+dims[1]*scale\n",
    "    if (y_bottom > img_dim):\n",
    "        y_bottom = img_dim\n",
    "    new_cord = np.array([0,x_top/img_dim, y_top/img_dim, x_bottom/img_dim, y_bottom/img_dim])\n",
    "    return new_cord"
   ]
  },
  {
   "cell_type": "code",
   "execution_count": 7,
   "metadata": {},
   "outputs": [],
   "source": [
    "def display_img(img, cord_arr,scale = 1):\n",
    "#     function to display the image being passed to the network \n",
    "    cord_arr = update_cord(cord_arr, scale)\n",
    "    x_top, y_top, x_bottom, y_bottom = cord_arr[1:]\n",
    "    x_top, y_top, x_bottom, y_bottom = int(x_top*512), int(y_top*512), int(x_bottom*512), int(y_bottom*512) \n",
    "    center = np.array([(x_top + x_bottom)/2, (y_top + y_bottom)/2])\n",
    "    dims = np.array([x_bottom-center[0],y_bottom-center[1]])\n",
    "    x_center, y_center = int(center[0]), int(center[1])\n",
    "#     print(\"The center of the BBox\",x_center, y_center)\n",
    "#     print(\"The dimensions are \", dims/2)\n",
    "#     print(\"The original cordinates of the BBox\",x_top, y_top, x_bottom, y_bottom)\n",
    "    x_top = int(abs(x_center-dims[0]))\n",
    "    y_top = int(abs(y_center-dims[1]))\n",
    "    x_bottom = int(abs(x_center+dims[0]))\n",
    "    y_bottom = int(abs(y_center+dims[1]))\n",
    "#     print(\"The new cordinates of the BBox\",x_top, y_top, x_bottom, y_bottom)\n",
    "    cv2.rectangle(img,(x_top,y_top),(x_bottom,y_bottom),(0,255,0),3)\n",
    "#     x_top, y_top, x_bottom, y_bottom = x_top * scale, y_top * scale, x_bottom * scale, y_bottom * scale \n",
    "    x_top = int(x_center-dims[0]*scale)\n",
    "#     print(x_center, x_top)\n",
    "    if (x_top < 0):\n",
    "        x_top = 0\n",
    "    y_top = int(y_center-dims[1]*scale)\n",
    "    if (y_top < 0):\n",
    "        y_top = 0\n",
    "    x_bottom = int(x_center+dims[0]*scale)\n",
    "    if (x_bottom > 512):\n",
    "        x_bottom = 512\n",
    "    y_bottom = int(y_center+dims[1]*scale)\n",
    "    if (y_bottom > 512):\n",
    "        y_bottom = 512\n",
    "#     print(\"The cordinates of the BBox\",x_top, y_top, x_bottom, y_bottom)\n",
    "    cv2.rectangle(img,(int(x_top),int(y_top)),(int(x_bottom),int(y_bottom)),(255,0,0),3)\n",
    "    fig1,ax1 = plt.subplots(1)\n",
    "    ax1.imshow(img)\n",
    "    new_cord = np.array([0,x_top, y_top, x_bottom, y_bottom])\n",
    "#     plt.imshow(img)\n",
    "    return new_cord.tolist()"
   ]
  },
  {
   "cell_type": "code",
   "execution_count": 8,
   "metadata": {},
   "outputs": [
    {
     "name": "stdout",
     "output_type": "stream",
     "text": [
      "131\n",
      "159\n"
     ]
    }
   ],
   "source": [
    "def process_data(data):\n",
    "    print(len(data))\n",
    "    img_list = []\n",
    "    gt_label_list = []\n",
    "    gt_cord_list = []\n",
    "    pad = np.zeros((len(data),1))\n",
    "    for i in range(len(data)):\n",
    "        img_list.append(data[i][0])\n",
    "        gt_label_list.append(data[i][1][0])\n",
    "        gt_cord_list.append(data[i][1][1])\n",
    "    # print(gt_cord_list)\n",
    "    gt_cord_arr = np.asarray(gt_cord_list)\n",
    "    gt_cord_arr = np.hstack((pad, gt_cord_arr))\n",
    "#     print(gt_cord_arr[0])\n",
    "    im_batch = img_list   # Pass the batch\n",
    "    num_images = len(im_batch)\n",
    "    processed_ims = []\n",
    "    im_scale_factors = []  #for multiscale processing\n",
    "\n",
    "    for j,im_file  in enumerate(im_batch):\n",
    "    #     print(im_file)\n",
    "        im = cv2.imread(im_file)\n",
    "        im = cv2.cvtColor(im, cv2.COLOR_RGB2BGR)\n",
    "#         plt.imshow(im)\n",
    "\n",
    "        # Retype and normilize image\n",
    "        #-------------------------------------------\n",
    "        im_orig = im.astype(np.float32, copy=True)\n",
    "        im_orig /= 255\n",
    "        im_orig -= .5\n",
    "\n",
    "\n",
    "        # Get shape and Max and Min of an image\n",
    "        #-------------------------------------------\n",
    "        im_shape = im_orig.shape\n",
    "    #     print(im_shape)\n",
    "        im_size_min = np.min(im_shape[0:2])\n",
    "        im_size_max = np.max(im_shape[0:2])\n",
    "\n",
    "\n",
    "        target_size = 512\n",
    "        im_scale = float(target_size) / float(im_size_min)\n",
    "\n",
    "        #--------------------------------------------------------------\n",
    "        # Future: multiscale load\n",
    "        # Prevent the biggest axis from being more than MAX_SIZE\n",
    "        #if np.round(im_scale * im_size_max) > MAX_SIZE:\n",
    "        #    im_scale = float(MAX_SIZE) / float(im_size_max)\n",
    "        #--------------------------------------------------------------\n",
    "        imW = (im_shape[1])\n",
    "        imH = (im_shape[0])\n",
    "\n",
    "        target_size = 512\n",
    "        im_scaleX = float(target_size) / float(imW)\n",
    "        im_scaleY = float(target_size) / float(imH)\n",
    "\n",
    "        im = cv2.resize(im_orig, None, None, fx=im_scaleX, fy=im_scaleY, interpolation=cv2.INTER_LINEAR)\n",
    "\n",
    "    #     im = cv2.resize(im_orig, None, None, fx=im_scale, fy=im_scale, interpolation=cv2.INTER_LINEAR)\n",
    "    #     print(im.shape)\n",
    "\n",
    "        im_scale_factors.append(im_scale)\n",
    "\n",
    "        processed_ims.append(im)\n",
    "#     print(np.shape(processed_ims))\n",
    "    return processed_ims, gt_cord_arr, gt_label_list\n",
    "\n",
    "\n",
    "    \n",
    "processed_ims, gt_cord_arr, gt_label_list = process_data(data_train)\n",
    "processed_ims_test, gt_cord_arr_test, gt_label_list_test = process_data(data_test)"
   ]
  },
  {
   "cell_type": "code",
   "execution_count": 145,
   "metadata": {},
   "outputs": [],
   "source": [
    "# for training \n",
    "input_vec = []\n",
    "input_vec_test = []\n",
    "for i in range(len(processed_ims)):\n",
    "    out = forward(processed_ims[i], gt_cord_arr[i])\n",
    "    input_vec.append(np.reshape(out,(128)))\n",
    "\n",
    "# insert the display function in here\n",
    "gt_cord_arr_new_test = np.zeros(np.shape(gt_cord_arr_test))\n",
    "for i in range(len(gt_cord_arr_test)):\n",
    "    gt_cord_arr_new_test[i] = update_cord(gt_cord_arr_test[i], 0.65) # Change the scale here\n",
    "#     print(gt_cord_arr_new_test[i],gt_cord_arr_test[i])\n",
    "\n",
    "\n",
    "# for testing\n",
    "for i in range(len(processed_ims_test)):\n",
    "    index = 110\n",
    "    out = forward(processed_ims_test[i], gt_cord_arr_new_test[i])\n",
    "    input_vec_test.append(np.reshape(out,(128)))"
   ]
  },
  {
   "cell_type": "code",
   "execution_count": 146,
   "metadata": {},
   "outputs": [
    {
     "name": "stdout",
     "output_type": "stream",
     "text": [
      "(131, 128)\n",
      "(159, 128)\n"
     ]
    },
    {
     "data": {
      "text/plain": [
       "131"
      ]
     },
     "execution_count": 146,
     "metadata": {},
     "output_type": "execute_result"
    }
   ],
   "source": [
    "print(np.shape(input_vec))\n",
    "print(np.shape(input_vec_test))\n",
    "\n",
    "nemo = pynemo.nemo(dominance= 1.25, m_learningRate=1)\n",
    "nemo.learn(inputs = np.asarray(input_vec), labels = np.asarray(gt_label_list))"
   ]
  },
  {
   "cell_type": "code",
   "execution_count": 147,
   "metadata": {},
   "outputs": [
    {
     "name": "stdout",
     "output_type": "stream",
     "text": [
      "(159, 128)\n",
      "159 159\n"
     ]
    }
   ],
   "source": [
    "def evaluate(test_vec):\n",
    "    predictions = nemo.predict_proba(test_vec, omit_nothing = False)\n",
    "#     print(predictions)\n",
    "    preds = predictions.idxmax(axis=1)\n",
    "    pred_class = [preds[i] for i in range (len(preds))]\n",
    "    return pred_class\n",
    "\n",
    "def evaluate_nemo(truth, pred):\n",
    "    correct_class = []\n",
    "    wrong_class_gt = []\n",
    "    wrong_class_pred = []\n",
    "    score = 0\n",
    "    for i in range(len(truth)):\n",
    "#         print(truth[i], pred[i]) \n",
    "        if (truth[i] == pred[i]):\n",
    "            score += 1\n",
    "            correct_class.append(truth[i])\n",
    "        else:\n",
    "            wrong_class_gt.append(truth[i])\n",
    "            wrong_class_pred.append(pred[i])\n",
    "    return score, wrong_class_gt, wrong_class_pred, correct_class\n",
    "\n",
    "print(np.shape(input_vec_test))\n",
    "pred = evaluate(input_vec_test)\n",
    "truth = gt_label_list_test \n",
    "print(len(truth), len(pred))\n",
    "score, wrong_gt, wrong_pred, correct_pred = evaluate_nemo(truth, pred)"
   ]
  },
  {
   "cell_type": "code",
   "execution_count": 148,
   "metadata": {},
   "outputs": [
    {
     "name": "stdout",
     "output_type": "stream",
     "text": [
      "{'baguette': 15, 'coin': 11, 'duck': 6, 'eiffel': 17, 'keys': 10, 'pen': 16, 'platypus': 13, 'spinner': 17, 'squirrel': 11, 'vr': 7}\n",
      "{'Nothing I know': 7, 'baguette': 10, 'keys': 7, 'pen': 5, 'platypus': 5, 'squirrel': 2}\n",
      "{'baguette': 10, 'coin': 0, 'duck': 0, 'eiffel': 0, 'keys': 7, 'pen': 5, 'platypus': 5, 'spinner': 0, 'squirrel': 2, 'vr': 0}\n",
      "[0.6, 1.0, 1.0, 1.0, 0.5882352941176471, 0.7619047619047619, 0.7222222222222222, 1.0, 0.8461538461538461, 1.0]\n",
      "The Mean Precision is 0.8518516124398477\n"
     ]
    }
   ],
   "source": [
    "True_Positive = {x:correct_pred.count(x) for x in sorted(correct_pred)}\n",
    "False_Positive = {x:wrong_pred.count(x) for x in sorted(wrong_pred)}\n",
    "False_Positive2 = {x:wrong_pred.count(x) for x in sorted(correct_pred)}  # Does not include the 'Nothing I Know' class \n",
    "print(True_Positive)\n",
    "print(False_Positive)\n",
    "print(False_Positive2)\n",
    "TP_keys = np.fromiter(True_Positive.values(), dtype=int)\n",
    "FP_keys = np.fromiter(False_Positive2.values(), dtype=int)\n",
    "# print(TP_keys)\n",
    "# print(FP_keys)\n",
    "print([TP_keys[i]/(TP_keys[i] + FP_keys[i]) for i in range(len(TP_keys))])\n",
    "prec = np.asarray([TP_keys[i]/(TP_keys[i] + FP_keys[i]) for i in range(len(TP_keys))])\n",
    "print(\"The Mean Precision is\", np.mean(prec))"
   ]
  },
  {
   "cell_type": "code",
   "execution_count": 171,
   "metadata": {},
   "outputs": [
    {
     "data": {
      "text/plain": [
       "['baguette',\n",
       " 'coin',\n",
       " 'duck',\n",
       " 'eiffel',\n",
       " 'keys',\n",
       " 'pen',\n",
       " 'platypus',\n",
       " 'spinner',\n",
       " 'squirrel',\n",
       " 'vr']"
      ]
     },
     "execution_count": 171,
     "metadata": {},
     "output_type": "execute_result"
    }
   ],
   "source": [
    "classes=['baguette', 'coin', 'duck', 'eiffel', 'keys', 'pen', 'platypus', 'spinner', 'squirrel','vr']\n",
    "classes"
   ]
  },
  {
   "cell_type": "code",
   "execution_count": 151,
   "metadata": {},
   "outputs": [],
   "source": [
    "# for scale = 0.65\n",
    "arr0 = [0.6, 1.0, 1.0, 1.0, 0.5882352941176471, 0.7619047619047619, 0.7222222222222222, 1.0, 0.8461538461538461, 1.0]\n",
    "\n",
    "# for scale = 0.7\n",
    "arr1 = [0.6521739130434783, 0.9166666666666666, 1.0, 1.0, 0.7333333333333333, 0.85, 0.75, 0.9444444444444444, 0.9090909090909091, 1.0]\n",
    "\n",
    "# for scale = 0.75\n",
    "arr2 = [0.7142857142857143, 0.9166666666666666, 1.0, 1.0, 0.6470588235294118, 0.8421052631578947, 0.7, 1.0, 0.9, 1.0]\n",
    "\n",
    "# for scale = 0.8\n",
    "arr3 = [0.7142857142857143, 0.9166666666666666, 1.0, 1.0, 0.75, 0.8947368421052632, 0.7368421052631579, 1.0, 0.9090909090909091, 1.0]\n",
    "\n",
    "# for scale = 0.85\n",
    "arr4 = [0.8333333333333334, 1.0, 0.8461538461538461, 1.0, 0.7333333333333333, 0.8421052631578947, 0.7368421052631579, 1.0, 0.9090909090909091, 1.0]\n",
    "\n",
    "\n",
    "# for scale = 0.9\n",
    "arr5 = [0.75, 1.0, 1.0, 1.0, 0.6842105263157895, 0.9333333333333333, 0.7777777777777778, 1.0, 0.8461538461538461, 1.0]\n",
    "\n",
    "# for scale = 0.95\n",
    "arr6 = [0.7894736842105263, 0.9285714285714286, 1.0, 1.0, 0.8, 0.9444444444444444, 0.7777777777777778, 0.9411764705882353, 0.9166666666666666, 1.0]\n",
    "\n",
    "# for scale = 1\n",
    "arr7 = [0.7142857142857143, 1.0, 1.0, 1.0, 0.75, 0.9411764705882353, 0.7647058823529411, 0.9444444444444444, 1.0, 0.875]\n",
    "\n",
    "# for scale = 1.05\n",
    "arr8 = [0.75, 1.0, 1.0, 1.0, 0.8125, 0.9411764705882353, 0.7777777777777778, 0.9444444444444444, 1.0, 1.0]\n",
    "\n",
    "# for scale = 1.1\n",
    "arr9 = [0.6818181818181818, 0.9285714285714286, 0.9285714285714286, 1.0, 0.6842105263157895, 0.9375, 0.8125, 0.9375, 1.0, 1.0]\n",
    "\n",
    "# for scale = 1.15\n",
    "arr10 = [0.6818181818181818, 0.9285714285714286, 1.0, 1.0, 0.6842105263157895, 0.9333333333333333, 0.8125, 0.9411764705882353, 1.0, 1.0]\n",
    "\n",
    "# for scale = 1.20\n",
    "arr11 = [0.6818181818181818, 0.9285714285714286, 0.9333333333333333, 1.0, 0.6842105263157895, 0.9375, 0.8125, 0.9375, 1.0, 1.0]\n",
    "\n",
    "# for scale = 1.25\n",
    "arr12 = [0.6818181818181818, 0.9285714285714286, 0.9333333333333333, 1.0, 0.7, 0.8823529411764706, 0.8125, 0.9375, 0.9166666666666666, 1.0]\n",
    "\n",
    "# for scale = 1.3\n",
    "arr13 = [0.6818181818181818, 0.9285714285714286, 0.9333333333333333, 1.0, 0.7368421052631579, 0.9333333333333333, 0.8125, 0.9411764705882353, 0.9166666666666666, 1.0]\n",
    "\n",
    "# for scale = 1.35\n",
    "arr14 = [0.6818181818181818, 0.9285714285714286, 0.9333333333333333, 1.0, 0.7368421052631579, 0.9375, 0.8125, 0.9411764705882353, 1.0, 1.0]\n"
   ]
  },
  {
   "cell_type": "code",
   "execution_count": 176,
   "metadata": {},
   "outputs": [
    {
     "data": {
      "text/plain": [
       "(15, 10)"
      ]
     },
     "execution_count": 176,
     "metadata": {},
     "output_type": "execute_result"
    }
   ],
   "source": [
    "# for i in range(14):\n",
    "#     print(\"arr\" + str(i))\n",
    "score_list = [arr0, arr1, arr2, arr3, arr4, arr5, arr6, arr7, arr8, arr9, arr10, arr11, arr12, arr13, arr4]\n",
    "score_arr = np.asarray(score_list)\n",
    "np.shape(score_arr)"
   ]
  },
  {
   "cell_type": "code",
   "execution_count": 187,
   "metadata": {},
   "outputs": [
    {
     "data": {
      "text/plain": [
       "['baguette',\n",
       " 'coin',\n",
       " 'duck',\n",
       " 'eiffel',\n",
       " 'keys',\n",
       " 'pen',\n",
       " 'platypus',\n",
       " 'spinner',\n",
       " 'squirrel',\n",
       " 'vr']"
      ]
     },
     "execution_count": 187,
     "metadata": {},
     "output_type": "execute_result"
    }
   ],
   "source": [
    "# score_arr[:,0]\n",
    "classes"
   ]
  },
  {
   "cell_type": "code",
   "execution_count": null,
   "metadata": {},
   "outputs": [],
   "source": []
  },
  {
   "cell_type": "code",
   "execution_count": null,
   "metadata": {},
   "outputs": [],
   "source": []
  },
  {
   "cell_type": "code",
   "execution_count": null,
   "metadata": {},
   "outputs": [],
   "source": []
  },
  {
   "cell_type": "code",
   "execution_count": 47,
   "metadata": {},
   "outputs": [
    {
     "name": "stdout",
     "output_type": "stream",
     "text": [
      "End\n",
      "X-X-X-X-X-X-X-X-X-X-X-X-X-X-X-X-X-X-X-X-X-X-X-X-X-X-X-X-X-X-X-X-X-X-X-X-X-X-X-X-X-X-X-X-X-X-X-X-X-X-\n",
      "--------------------------------------------------\n"
     ]
    }
   ],
   "source": [
    "print(\"End\")\n",
    "print(\"X-\"*50)\n",
    "print(\"-\"*50)"
   ]
  },
  {
   "cell_type": "code",
   "execution_count": 4,
   "metadata": {},
   "outputs": [
    {
     "name": "stdout",
     "output_type": "stream",
     "text": [
      "159\n",
      "[0.      0.48369 0.62585 0.52398 0.71282]\n"
     ]
    }
   ],
   "source": [
    "# seperating data into image location, GT label and GT BBoxes\n",
    "print(len(data))\n",
    "img_list = []\n",
    "gt_label_list = []\n",
    "gt_cord_list = []\n",
    "pad = np.zeros((len(data),1))\n",
    "for i in range(len(data)):\n",
    "    img_list.append(data[i][0])\n",
    "    gt_label_list.append(data[i][1][0])\n",
    "    gt_cord_list.append(data[i][1][1])\n",
    "# print(gt_cord_list)\n",
    "gt_cord_arr = np.asarray(gt_cord_list)\n",
    "gt_cord_arr = np.hstack((pad, gt_cord_arr))\n",
    "print(gt_cord_arr[0])"
   ]
  },
  {
   "cell_type": "code",
   "execution_count": 5,
   "metadata": {},
   "outputs": [],
   "source": [
    "def plot_blobs(net, layer, cols = 5, batchIndex = 0, figsize = (5,5), cmap = cm.get_cmap('viridis'),v=(0,1), byrow = False, idx = -1):\n",
    "    \n",
    "    # number of blobs annd their dimensions\n",
    "    num_channels  = net.blobs[layer].data.shape[1]\n",
    "    cont_height   = net.blobs[layer].data.shape[2]\n",
    "    cont_width    = net.blobs[layer].data.shape[3]\n",
    "    \n",
    "    if  (not isinstance(idx, list)): idx=range(num_channels)\n",
    "    num_channels = len(idx)\n",
    "    \n",
    "    rows = int(np.ceil(num_channels/cols))\n",
    "    f, splt = plt.subplots(rows,cols,figsize=figsize)\n",
    "\n",
    "\n",
    "    for c,curCh in enumerate(idx):\n",
    "        content = (net.blobs[layer].data[batchIndex, curCh, :, :])\n",
    "        \n",
    "        if byrow==False:\n",
    "            splt[c%rows,int(c/rows)].imshow(content, cmap = cm.get_cmap('viridis', 420),vmin = v[0],vmax=v[1])\n",
    "        else:\n",
    "            splt[int(c/rows),c%rows].imshow(content, cmap = cm.get_cmap('viridis', 420),vmin = v[0],vmax=v[1])\n",
    "        \n",
    "        \n",
    "def plot_activation_hist(net, layer, cols = 5, batchIndex = 0, figsize = (5,5), cmap = cm.get_cmap('viridis'),v=(0,1), h=100, idx = -1):\n",
    "\n",
    "    # number of blobs annd their dimensions\n",
    "    num_channels  = net.blobs[layer].data.shape[1]\n",
    "    cont_height   = net.blobs[layer].data.shape[2]\n",
    "    cont_width    = net.blobs[layer].data.shape[3]\n",
    "    \n",
    "    if  (not isinstance(idx, list)): idx=range(num_channels)\n",
    "    num_channels = len(idx)\n",
    "    \n",
    "    rows = int(np.ceil(num_channels/cols))\n",
    "    f, splt = plt.subplots(rows,cols,figsize=figsize)\n",
    "\n",
    "    for c,curCh in enumerate(idx):\n",
    "    \n",
    "        content = (net.blobs[layer].data[batchIndex, curCh, :, :])\n",
    "        cc = content.reshape(1024)\n",
    "        if byrow==False:\n",
    "            splt[c%rows,int(c/rows)].hist(cc,h)\n",
    "        else:\n",
    "            splt[int(c/rows),c%rows].hist(cc,h)"
   ]
  },
  {
   "cell_type": "code",
   "execution_count": null,
   "metadata": {},
   "outputs": [],
   "source": []
  },
  {
   "cell_type": "code",
   "execution_count": 6,
   "metadata": {},
   "outputs": [],
   "source": [
    "# gt_label_list"
   ]
  },
  {
   "cell_type": "code",
   "execution_count": 7,
   "metadata": {},
   "outputs": [
    {
     "data": {
      "image/png": "[encoded data removed]",
      "text/plain": [
       "<Figure size 432x288 with 1 Axes>"
      ]
     },
     "metadata": {
      "needs_background": "light"
     },
     "output_type": "display_data"
    }
   ],
   "source": [
    "def get_cord(txt_location):\n",
    "#     img = Image.open(img_location)\n",
    "    #img = img.resize((512,512))\n",
    "    with open(txt_location, 'r') as f:\n",
    "        reader = csv.reader(f, dialect='excel', delimiter='\\t')\n",
    "        cord = []\n",
    "        cord_arr = np.zeros(4) \n",
    "        for row in reader:\n",
    "            img_class = row[0]\n",
    "            x_top = float(row[4])\n",
    "            y_top = float(row[5])\n",
    "            x_bottom = float(row[6])\n",
    "            y_bottom = float(row[7])\n",
    "    return x_top, y_top, x_bottom, y_bottom\n",
    "\n",
    "# \tdraw = ImageDraw.Draw(img)\n",
    "# \tdraw.rectangle(((x_top, y_top), (x_bottom, y_bottom)))\n",
    "# \tprint (img_class)\n",
    "# \timg.show()\n",
    "\n",
    "\n",
    "img_name = '/opt/caffe/neurala/training-pipeline/models/FullDenseNet/04fd9f2d-0000000.jpg'\n",
    "txt_name = '/opt/caffe/neurala/training-pipeline/models/FullDenseNet/04fd9f2d-0000000.txt'\n",
    "# x_top, y_top, x_bottom, y_bottom = get_cord(img_name, txt_name)\n",
    "# img = Image.open(img_name)\n",
    "# # img = cv2.imread(img_loc,0)\n",
    "# draw = ImageDraw.Draw(img)\n",
    "# draw.rectangle(((x_top, y_top), (x_bottom, y_bottom)))\n",
    "# fig5,ax5 = plt.subplots(1)\n",
    "# plt.title(\"GT Boxes\")\n",
    "\n",
    "# for tmpRect in myProposedRects:\n",
    "\n",
    "# rect = patches.Rectangle(\n",
    "#         (x_top,y_top),\n",
    "#         x_bottom - x_top,\n",
    "#         y_bottom - y_top,\n",
    "#         linewidth=2,\n",
    "#         edgecolor='r',\n",
    "#         facecolor='none')\n",
    "# ax5.add_patch(rect)\n",
    "\n",
    "# ax5.imshow(img)\n",
    "\n",
    "# plt.show()\n",
    "\n",
    "#image_name='test_images/000456.jpg'\n",
    "#image_name='test_images/duck512.jpg'\n",
    "#image_name='test_images/enight.jpg'\n",
    "# image_name='test_images/wduck.jpg'\n",
    "\n",
    "# im_batch = [img_name] #quick test on one image\n",
    "im_batch = img_list   # Pass the batch\n",
    "num_images = len(im_batch)\n",
    "processed_ims = []\n",
    "im_scale_factors = []  #for multiscale processing\n",
    "\n",
    "for j,im_file  in enumerate(im_batch):\n",
    "#     print(im_file)\n",
    "    im = cv2.imread(im_file)\n",
    "    im = cv2.cvtColor(im, cv2.COLOR_RGB2BGR)\n",
    "    plt.imshow(im)\n",
    "\n",
    "    # Retype and normilize image\n",
    "    #-------------------------------------------\n",
    "    im_orig = im.astype(np.float32, copy=True)\n",
    "    im_orig /= 255\n",
    "    im_orig -= .5\n",
    "\n",
    "\n",
    "    # Get shape and Max and Min of an image\n",
    "    #-------------------------------------------\n",
    "    im_shape = im_orig.shape\n",
    "#     print(im_shape)\n",
    "    im_size_min = np.min(im_shape[0:2])\n",
    "    im_size_max = np.max(im_shape[0:2])\n",
    "\n",
    "    \n",
    "    target_size = 512\n",
    "    im_scale = float(target_size) / float(im_size_min)\n",
    "\n",
    "    #--------------------------------------------------------------\n",
    "    # Future: multiscale load\n",
    "    # Prevent the biggest axis from being more than MAX_SIZE\n",
    "    #if np.round(im_scale * im_size_max) > MAX_SIZE:\n",
    "    #    im_scale = float(MAX_SIZE) / float(im_size_max)\n",
    "    #--------------------------------------------------------------\n",
    "    imW = (im_shape[1])\n",
    "    imH = (im_shape[0])\n",
    "\n",
    "    target_size = 512\n",
    "    im_scaleX = float(target_size) / float(imW)\n",
    "    im_scaleY = float(target_size) / float(imH)\n",
    "\n",
    "    im = cv2.resize(im_orig, None, None, fx=im_scaleX, fy=im_scaleY, interpolation=cv2.INTER_LINEAR)\n",
    "\n",
    "#     im = cv2.resize(im_orig, None, None, fx=im_scale, fy=im_scale, interpolation=cv2.INTER_LINEAR)\n",
    "#     print(im.shape)\n",
    "\n",
    "    im_scale_factors.append(im_scale)\n",
    "    \n",
    "    processed_ims.append(im)"
   ]
  },
  {
   "cell_type": "code",
   "execution_count": 8,
   "metadata": {},
   "outputs": [
    {
     "data": {
      "text/plain": [
       "(159, 512, 512, 3)"
      ]
     },
     "execution_count": 8,
     "metadata": {},
     "output_type": "execute_result"
    }
   ],
   "source": [
    "np.shape(processed_ims)"
   ]
  },
  {
   "cell_type": "code",
   "execution_count": 9,
   "metadata": {},
   "outputs": [],
   "source": []
  },
  {
   "cell_type": "code",
   "execution_count": 10,
   "metadata": {},
   "outputs": [
    {
     "name": "stdout",
     "output_type": "stream",
     "text": [
      "eiffel\n",
      "duck\n",
      "squirrel\n",
      "coin\n",
      "platypus\n",
      "baguette\n",
      "pen\n",
      "keys\n",
      "spinner\n",
      "vr\n",
      "platypus\n",
      "squirrel\n",
      "platypus\n",
      "platypus\n",
      "platypus\n",
      "coin\n",
      "eiffel\n",
      "pen\n",
      "squirrel\n",
      "duck\n",
      "eiffel\n",
      "pen\n",
      "duck\n",
      "baguette\n",
      "pen\n",
      "keys\n",
      "platypus\n",
      "baguette\n",
      "keys\n",
      "eiffel\n",
      "keys\n",
      "pen\n",
      "platypus\n",
      "keys\n",
      "pen\n",
      "keys\n",
      "duck\n",
      "coin\n",
      "baguette\n",
      "duck\n",
      "spinner\n",
      "coin\n",
      "squirrel\n",
      "keys\n",
      "duck\n",
      "baguette\n",
      "duck\n",
      "squirrel\n",
      "pen\n",
      "spinner\n",
      "squirrel\n",
      "baguette\n",
      "eiffel\n",
      "spinner\n",
      "pen\n",
      "keys\n",
      "platypus\n",
      "squirrel\n",
      "eiffel\n",
      "duck\n",
      "vr\n",
      "vr\n",
      "keys\n",
      "eiffel\n",
      "spinner\n",
      "keys\n",
      "baguette\n",
      "spinner\n",
      "squirrel\n",
      "vr\n",
      "eiffel\n",
      "spinner\n",
      "duck\n",
      "vr\n",
      "platypus\n",
      "keys\n",
      "coin\n",
      "duck\n",
      "baguette\n",
      "coin\n",
      "platypus\n",
      "eiffel\n",
      "duck\n",
      "pen\n",
      "coin\n",
      "platypus\n",
      "pen\n",
      "spinner\n",
      "duck\n",
      "eiffel\n",
      "spinner\n",
      "spinner\n",
      "pen\n",
      "platypus\n",
      "squirrel\n",
      "spinner\n",
      "squirrel\n",
      "spinner\n",
      "vr\n",
      "spinner\n",
      "baguette\n",
      "baguette\n",
      "pen\n",
      "eiffel\n",
      "coin\n",
      "platypus\n",
      "keys\n",
      "coin\n",
      "eiffel\n",
      "platypus\n",
      "platypus\n",
      "spinner\n",
      "spinner\n",
      "baguette\n",
      "platypus\n",
      "baguette\n",
      "pen\n",
      "squirrel\n",
      "duck\n",
      "keys\n",
      "baguette\n",
      "pen\n",
      "keys\n",
      "eiffel\n",
      "vr\n",
      "keys\n",
      "squirrel\n",
      "baguette\n",
      "vr\n",
      "duck\n",
      "pen\n",
      "duck\n",
      "vr\n",
      "coin\n",
      "eiffel\n",
      "eiffel\n",
      "spinner\n",
      "baguette\n",
      "spinner\n",
      "eiffel\n",
      "vr\n",
      "coin\n",
      "duck\n",
      "coin\n",
      "pen\n",
      "duck\n",
      "eiffel\n",
      "spinner\n",
      "pen\n",
      "coin\n",
      "pen\n",
      "keys\n",
      "eiffel\n",
      "platypus\n",
      "platypus\n",
      "coin\n",
      "coin\n",
      "eiffel\n",
      "pen\n"
     ]
    }
   ],
   "source": [
    "# complete forward pass including two networks\n",
    "\n",
    "def forward(img, cord):\n",
    "#     print(cord)\n",
    "    net =  caffe.Net('/opt/caffe/neurala/training-pipeline/models/classifier/complete_model/GorchNet-512.prototxt',\n",
    "                     '/opt/caffe/neurala/training-pipeline/models/classifier/complete_model/GorchNet-512.caffemodel',\n",
    "                     caffe.TEST)\n",
    "    blobs_out = net.forward(**loadBatch(net,[img]))\n",
    "#     print(np.shape(img))\n",
    "#     out = loadBatch(net,img)\n",
    "    mydata = net.blobs['cascade192/output'].data\n",
    "#     index = 0\n",
    "#     output = np.squeeze(mydata[0,index,:,:])\n",
    "#     plt.imshow(output)\n",
    "    \n",
    "    \n",
    "#     must get the labels ready\n",
    "#     print(np.shape(mydata.tolist()))\n",
    "#     print(np.shape(cord))\n",
    "    cord = np.reshape(cord,(1,1,1,5))\n",
    "\n",
    "#     print(np.shape(cord))\n",
    "    net3 = caffe.Net('/opt/caffe/neurala/training-pipeline/models/classifier/complete_model/complete_model_gorchnet.prototxt',\n",
    "                     '/opt/caffe/neurala/training-pipeline/models/classifier/complete_model/GorchNet-ROI.caffemodel',\n",
    "                    caffe.TEST)\n",
    "    net3.blobs['data'].data[...] = mydata.tolist()\n",
    "    net3.blobs['bboxes'].data[...] = cord.tolist()\n",
    "    class_output = net3.forward()\n",
    "    out =  net3.blobs['global_pool'].data\n",
    "    roi = net3.blobs['roi_pool'].data\n",
    "#     print(np.shape(net3.blobs['roi_pool'].data[...]))\n",
    "#     print(np.shape(out))\n",
    "    return out\n",
    "#     print(mydata[0,index,:,:].shape)\n",
    "#     output = np.squeeze(mydata[0,index,:,])\n",
    "#     plt.imshow(mydata[0,index,:,:])\n",
    "#     print(mydata[0,index,:,:])\n",
    "#     print(np.min(output),np.max(output))\n",
    "    \n",
    "input_vec = []\n",
    "\n",
    "# for training \n",
    "for i in range(len(processed_ims)):\n",
    "    out = forward(processed_ims[i], gt_cord_arr[i])\n",
    "    input_vec.append(np.reshape(out,(128)))\n",
    "    print(gt_label_list[i])\n",
    "#     output = np.squeeze(mydata[0,index,:,:])\n",
    "#     plt.imshow(output)\n",
    "    \n"
   ]
  },
  {
   "cell_type": "code",
   "execution_count": 11,
   "metadata": {},
   "outputs": [
    {
     "data": {
      "text/plain": [
       "(159, 128)"
      ]
     },
     "execution_count": 11,
     "metadata": {},
     "output_type": "execute_result"
    }
   ],
   "source": [
    "np.shape(np.asarray(input_vec))"
   ]
  },
  {
   "cell_type": "code",
   "execution_count": 28,
   "metadata": {},
   "outputs": [
    {
     "data": {
      "text/plain": [
       "159"
      ]
     },
     "execution_count": 28,
     "metadata": {},
     "output_type": "execute_result"
    }
   ],
   "source": [
    "import pynemo\n",
    "nemo = pynemo.nemo(dominance=1, m_learningRate=1)\n",
    "nemo.learn(inputs = np.asarray(input_vec), labels = np.asarray(gt_label_list))"
   ]
  },
  {
   "cell_type": "code",
   "execution_count": 29,
   "metadata": {},
   "outputs": [],
   "source": [
    "def evaluate(test_vec):\n",
    "    predictions = nemo.predict_proba(test_vec, omit_nothing = False)\n",
    "#     print(predictions)\n",
    "    preds = predictions.idxmax(axis=1)\n",
    "    pred_class = [preds[i] for i in range (len(preds))]\n",
    "    return pred_class\n",
    "\n",
    "def evaluate_nemo(truth, pred):\n",
    "    correct_class = []\n",
    "    wrong_class_gt = []\n",
    "    wrong_class_pred = []\n",
    "    score = 0\n",
    "    for i in range(len(truth)):\n",
    "#         print(truth[i], pred[i]) \n",
    "        if (truth[i] == pred[i]):\n",
    "            score += 1\n",
    "            correct_class.append(truth[i])\n",
    "        else:\n",
    "            wrong_class_gt.append(truth[i])\n",
    "            wrong_class_pred.append(pred[i])\n",
    "    return score, wrong_class_gt, wrong_class_pred, correct_class\n",
    "\n",
    "pred = evaluate(input_vec)\n",
    "truth = gt_label_list # passing the train as test!\n",
    "score, wrong_gt, wrong_pred, correct_pred = evaluate_nemo(truth, pred)"
   ]
  },
  {
   "cell_type": "code",
   "execution_count": 30,
   "metadata": {
    "scrolled": true
   },
   "outputs": [
    {
     "name": "stdout",
     "output_type": "stream",
     "text": [
      "{'baguette': 15, 'coin': 14, 'duck': 15, 'eiffel': 19, 'keys': 14, 'pen': 17, 'platypus': 18, 'spinner': 18, 'squirrel': 12, 'vr': 10}\n",
      "{'baguette': 2, 'eiffel': 1, 'pen': 1, 'platypus': 2, 'vr': 1}\n",
      "{'baguette': 2, 'coin': 0, 'duck': 0, 'eiffel': 1, 'keys': 0, 'pen': 1, 'platypus': 2, 'spinner': 0, 'squirrel': 0, 'vr': 1}\n"
     ]
    }
   ],
   "source": [
    "True_Positive = {x:correct_pred.count(x) for x in sorted(correct_pred)}\n",
    "False_Positive = {x:wrong_pred.count(x) for x in sorted(wrong_pred)}\n",
    "False_Positive2 = {x:wrong_pred.count(x) for x in sorted(correct_pred)}  # Does not include the 'Nothing I Know' class \n",
    "print(True_Positive)\n",
    "print(False_Positive)\n",
    "print(False_Positive2)"
   ]
  },
  {
   "cell_type": "code",
   "execution_count": 31,
   "metadata": {},
   "outputs": [
    {
     "name": "stdout",
     "output_type": "stream",
     "text": [
      "[0.8823529411764706, 1.0, 1.0, 0.95, 1.0, 0.9444444444444444, 0.9, 1.0, 1.0, 0.9090909090909091]\n",
      "The Mean Precision is 0.9585888294711824\n"
     ]
    }
   ],
   "source": [
    "TP_keys = np.fromiter(True_Positive.values(), dtype=int)\n",
    "FP_keys = np.fromiter(False_Positive2.values(), dtype=int)\n",
    "# print(TP_keys)\n",
    "# print(FP_keys)\n",
    "print([TP_keys[i]/(TP_keys[i] + FP_keys[i]) for i in range(len(TP_keys))])\n",
    "prec = np.asarray([TP_keys[i]/(TP_keys[i] + FP_keys[i]) for i in range(len(TP_keys))])\n",
    "print(\"The Mean Precision is\", np.mean(prec))"
   ]
  },
  {
   "cell_type": "code",
   "execution_count": 73,
   "metadata": {},
   "outputs": [],
   "source": [
    "# below code the same!"
   ]
  },
  {
   "cell_type": "code",
   "execution_count": null,
   "metadata": {},
   "outputs": [],
   "source": []
  },
  {
   "cell_type": "code",
   "execution_count": 40,
   "metadata": {},
   "outputs": [],
   "source": [
    "# Forward\n",
    "blobs_out = net.forward(**loadBatch(net,[processed_ims[0]]))\n",
    "out = loadBatch(net,processed_ims)\n",
    "# print(np.shape(out['data']))\n",
    "# print(np.shape(blobs_out['cascade192/output']))\n",
    "# blobs_out = net.forward(*out['data'])\n",
    "\n",
    "# net.blobs['data'].data"
   ]
  },
  {
   "cell_type": "code",
   "execution_count": 19,
   "metadata": {},
   "outputs": [
    {
     "name": "stdout",
     "output_type": "stream",
     "text": [
      "(1, 448, 32, 32)\n",
      "0.0 10.398975\n"
     ]
    },
    {
     "data": {
      "image/png": "[encoded data removed]",
      "text/plain": [
       "<Figure size 432x288 with 1 Axes>"
      ]
     },
     "metadata": {
      "needs_background": "light"
     },
     "output_type": "display_data"
    }
   ],
   "source": [
    "#What does the output looks like\n",
    "#------------------------------------------------------\n",
    "mydata = net.blobs['cascade192/output'].data\n",
    "print(mydata.shape)\n",
    "index = 0\n",
    "output = np.squeeze(mydata[0,index,:,:])\n",
    "plt.imshow(output)\n",
    "\n",
    "print(np.min(output),np.max(output))"
   ]
  },
  {
   "cell_type": "code",
   "execution_count": 20,
   "metadata": {},
   "outputs": [],
   "source": [
    "import caffe\n",
    "net3 = caffe.Net('/opt/caffe/neurala/training-pipeline/models/classifier/complete_model/complete_model_gorchnet.prototxt',\n",
    "                 '/opt/caffe/neurala/training-pipeline/models/classifier/complete_model/GorchNet-ROI.caffemodel',\n",
    "                caffe.TEST)"
   ]
  },
  {
   "cell_type": "code",
   "execution_count": 21,
   "metadata": {},
   "outputs": [],
   "source": [
    "# # load the output from net1 into net3\n",
    "# img_name = '/opt/caffe/neurala/training-pipeline/models/FullDenseNet/04fd9f2d-0000000.jpg'\n",
    "# txt_name = '/opt/caffe/neurala/training-pipeline/models/FullDenseNet/04fd9f2d-0000000.txt'\n",
    "\n",
    "\n",
    "# img = Image.open(img_name)\n",
    "\n",
    "# # This is the vusualization code\n",
    "# # draw = ImageDraw.Draw(img)\n",
    "# # draw.rectangle(((x_top, y_top), (x_bottom, y_bottom)))\n",
    "# # fig1,ax1 = plt.subplots(1)\n",
    "# # plt.title(\"GT Boxes\")\n",
    "\n",
    "# # # for tmpRect in myProposedRects:\n",
    "\n",
    "# # rect = patches.Rectangle(\n",
    "# #         (x_top,y_top),\n",
    "# #         x_bottom - x_top,\n",
    "# #         y_bottom - y_top,\n",
    "# #         linewidth=2,\n",
    "# #         edgecolor='r',\n",
    "# #         facecolor='none')\n",
    "# # ax1.add_patch(rect)\n",
    "\n",
    "# # ax1.imshow(img)\n",
    "\n",
    "# # plt.show()\n",
    "\n",
    "# print(\"The original shape of the image is\")\n",
    "# print(np.shape(img))\n",
    "\n",
    "# print(\"#\" * 100)\n",
    "# print(\"resizing the image\")\n",
    "\n",
    "# im_shape = np.shape(img)\n",
    "# imW = (im_shape[1])\n",
    "# imH = (im_shape[0])\n",
    "\n",
    "# target_size = 1      # change to 1 later\n",
    "# im_scaleX = float(target_size) / float(imW)\n",
    "# im_scaleY = float(target_size) / float(imH)\n",
    "\n",
    "# im = cv2.resize(im_orig, None, None, fx=im_scaleX, fy=im_scaleY, interpolation=cv2.INTER_LINEAR)\n",
    "# print(\"The new dimensions are\")\n",
    "# print(np.shape(im))\n",
    "# # fig2,ax2 = plt.subplots(1)\n",
    "# # plt.title(\"Resized Image\")\n",
    "# cord = x_top, y_top, x_bottom, y_bottom\n",
    "# xn_top, yn_top, xn_bottom, yn_bottom = normalized_cord(img,cord)\n",
    "\n",
    "# # This is the visualization code\n",
    "# # rect = patches.Rectangle(\n",
    "# #         (xn_top * target_size,yn_top * target_size),\n",
    "# #         xn_bottom * target_size - xn_top * target_size,\n",
    "# #         yn_bottom *target_size - yn_top * target_size,\n",
    "# #         linewidth=2,\n",
    "# #         edgecolor='g',\n",
    "# #         facecolor='none')\n",
    "# # ax2.add_patch(rect)\n",
    "# # ax2.imshow(im)\n",
    "# # plt.show()"
   ]
  },
  {
   "cell_type": "code",
   "execution_count": 22,
   "metadata": {},
   "outputs": [
    {
     "data": {
      "text/plain": [
       "(0.22876, 0.09581, 0.73808, 0.897)"
      ]
     },
     "execution_count": 22,
     "metadata": {},
     "output_type": "execute_result"
    }
   ],
   "source": [
    "x_top, y_top, x_bottom, y_bottom = get_cord(txt_name)\n",
    "cord = x_top, y_top, x_bottom, y_bottom\n",
    "img = Image.open(img_name)\n",
    "target_size = 1\n",
    "xn_top, yn_top, xn_bottom, yn_bottom = normalized_cord(img,cord)\n",
    "xn_top*target_size, yn_top*target_size, xn_bottom*target_size, yn_bottom*target_size"
   ]
  },
  {
   "cell_type": "code",
   "execution_count": 206,
   "metadata": {},
   "outputs": [],
   "source": [
    "# now load data into net3\n",
    "data_list = []\n",
    "label_list = [0, xn_top, yn_top, xn_bottom, yn_bottom] \n",
    "# label_list = [0, yn_top,  xn_top, yn_bottom, xn_bottom]   # This one gives better results, reverify!\n",
    "data_list.append(mydata)\n",
    "# net3.blobs['data'].reshape(*np.asarray(data_list).shape)\n",
    "ll = np.asarray(label_list)\n",
    "ll = np.reshape(ll,(1,1,1,5))\n",
    "label_list = ll.tolist()\n",
    "net3.blobs['data'].data[...] = data_list\n",
    "net3.blobs['bboxes'].data[...] = label_list"
   ]
  },
  {
   "cell_type": "code",
   "execution_count": 207,
   "metadata": {},
   "outputs": [],
   "source": [
    "class_output = net3.forward()\n",
    "out =  net3.blobs['global_pool'].data\n",
    "roi = net3.blobs['roi_pool'].data"
   ]
  },
  {
   "cell_type": "code",
   "execution_count": 208,
   "metadata": {},
   "outputs": [
    {
     "data": {
      "text/plain": [
       "array([[[[0.     , 0.22876, 0.09581, 0.73808, 0.897  ]]]], dtype=float32)"
      ]
     },
     "execution_count": 208,
     "metadata": {},
     "output_type": "execute_result"
    }
   ],
   "source": [
    "net3.blobs['bboxes'].data[...]"
   ]
  },
  {
   "cell_type": "code",
   "execution_count": 209,
   "metadata": {},
   "outputs": [
    {
     "data": {
      "text/plain": [
       "(1, 448, 8, 8)"
      ]
     },
     "execution_count": 209,
     "metadata": {},
     "output_type": "execute_result"
    }
   ],
   "source": [
    "np.shape(net3.blobs['roi_pool'].data[...])"
   ]
  },
  {
   "cell_type": "code",
   "execution_count": 210,
   "metadata": {},
   "outputs": [
    {
     "name": "stdout",
     "output_type": "stream",
     "text": [
      "(8, 8)\n",
      "[[1.8735703e+00 9.7771454e-01 1.7522701e+00 2.2947464e+00 5.9286803e-01\n",
      "  0.0000000e+00 3.4943035e-01 6.4637744e-01]\n",
      " [1.7541097e+00 7.9761320e-01 7.3758882e-01 1.9592418e-01 0.0000000e+00\n",
      "  4.2009983e-02 1.3975965e+00 5.7750955e+00]\n",
      " [8.8505238e-01 1.5743237e+00 3.0556189e-02 0.0000000e+00 0.0000000e+00\n",
      "  2.3588187e-01 3.8392588e-01 5.7980174e-01]\n",
      " [9.0479547e-01 1.5061011e+00 0.0000000e+00 0.0000000e+00 0.0000000e+00\n",
      "  0.0000000e+00 0.0000000e+00 0.0000000e+00]\n",
      " [1.1790822e+00 3.3983350e-01 0.0000000e+00 0.0000000e+00 0.0000000e+00\n",
      "  0.0000000e+00 0.0000000e+00 1.7703442e-01]\n",
      " [3.3841231e-01 8.5843384e-02 0.0000000e+00 0.0000000e+00 0.0000000e+00\n",
      "  1.5036772e-02 6.3279867e-02 2.6650479e-01]\n",
      " [0.0000000e+00 0.0000000e+00 3.4845304e-02 1.0603315e-01 1.5190347e-01\n",
      "  1.7962458e-02 1.2956800e-01 5.1010382e-01]\n",
      " [8.9578627e-04 3.5051808e-02 1.0724398e-01 6.1775249e-01 1.8485377e+00\n",
      "  2.9740584e-01 4.3698823e-01 1.2179136e-01]]\n",
      "0.0 5.7750955\n"
     ]
    },
    {
     "data": {
      "image/png": "[encoded data removed]",
      "text/plain": [
       "<Figure size 432x288 with 1 Axes>"
      ]
     },
     "metadata": {
      "needs_background": "light"
     },
     "output_type": "display_data"
    }
   ],
   "source": [
    "mydata = net3.blobs['roi_pool'].data\n",
    "print(mydata[0,index,:,:].shape)\n",
    "output = np.squeeze(mydata[0,index,:,])\n",
    "plt.imshow(mydata[0,index,:,:])\n",
    "print(mydata[0,index,:,:])\n",
    "print(np.min(output),np.max(output))"
   ]
  },
  {
   "cell_type": "code",
   "execution_count": 104,
   "metadata": {},
   "outputs": [
    {
     "data": {
      "text/plain": [
       "(1, 128, 1, 1)"
      ]
     },
     "execution_count": 104,
     "metadata": {},
     "output_type": "execute_result"
    }
   ],
   "source": [
    "out_label = class_output\n",
    "np.shape(out)"
   ]
  },
  {
   "cell_type": "code",
   "execution_count": 83,
   "metadata": {},
   "outputs": [
    {
     "name": "stdout",
     "output_type": "stream",
     "text": [
      "[ 0.17830291  0.07952479 -0.21418741 -0.06227454  0.09372168  0.01521497\n",
      " -0.06353392  0.16989416 -0.01325516 -0.05272143  0.08584118  0.17476772\n",
      " -0.00894106 -0.08091862  0.08939848 -0.15335613 -0.06764771  0.12384898\n",
      "  0.22420874 -0.00689631 -0.03766745  0.07829195  0.09173018 -0.12194443\n",
      " -0.06959507 -0.00449026  0.1335583  -0.18119629  0.011895   -0.08402536\n",
      " -0.15172172  0.31917965  0.079551   -0.21059169  0.0840864   0.12228817\n",
      " -0.13395119 -0.15925269 -0.0363506   0.02829336  0.12484621 -0.05402197\n",
      "  0.11888821  0.2037022   0.01446846  0.0346273   0.08620663 -0.11672539\n",
      "  0.14610264  0.01926462  0.18347742 -0.03338022  0.08330926  0.07957314\n",
      "  0.10269584 -0.07703594 -0.02278947  0.03078528 -0.15615223  0.09196898\n",
      "  0.1194497   0.04133487  0.0722731   0.28092745  0.00185678  0.05666072\n",
      " -0.13031515 -0.00964538 -0.06122872 -0.12268905  0.11601829  0.28142655\n",
      " -0.1735222   0.05344319  0.28767446 -0.12639852 -0.08095478  0.07436991\n",
      " -0.06015088  0.00337189  0.24263953 -0.19069864 -0.03111528  0.02921788\n",
      "  0.13105644  0.09573556 -0.14858902  0.07346415  0.07418139 -0.26886997\n",
      "  0.10536563 -0.06023288  0.02055364 -0.00139487  0.12875627 -0.05070172\n",
      "  0.09797016 -0.28450784 -0.24894224 -0.08906326  0.0343165   0.13816653\n",
      "  0.00115444  0.09452017  0.15769923  0.17907897 -0.03987156 -0.06783487\n",
      " -0.07792454 -0.0549288   0.15356089  0.1514279  -0.27409855 -0.31135708\n",
      "  0.01325406 -0.06789723  0.13128975  0.07826492  0.05375205  0.03146544\n",
      "  0.17620097 -0.07557936  0.08075751  0.24222109 -0.02634317  0.07338661\n",
      "  0.04200635  0.09833009]\n"
     ]
    }
   ],
   "source": [
    "vec = np.reshape(out,(128))\n",
    "print(vec)"
   ]
  },
  {
   "cell_type": "code",
   "execution_count": 94,
   "metadata": {},
   "outputs": [],
   "source": [
    "def net3(data, txt_file):\n",
    "    x_top, y_top, x_bottom, y_bottom = get_cord(txt_file)\n",
    "    cord = x_top, y_top, x_bottom, y_bottom\n",
    "    img = Image.open(img_name)\n",
    "    target_size = 1\n",
    "    xn_top, yn_top, xn_bottom, yn_bottom = normalized_cord(img,cord)\n",
    "    xn_top*target_size, yn_top*target_size, xn_bottom*target_size, yn_bottom*target_size\n",
    "    data_list = []\n",
    "    label_list = [xn_top, yn_top, xn_bottom, yn_bottom, 0]\n",
    "    data_list.append(mydata)\n",
    "    # net3.blobs['data'].reshape(*np.asarray(data_list).shape)\n",
    "    ll = np.asarray(label_list)\n",
    "    ll = np.reshape(ll,(1,1,1,5))\n",
    "    label_list = ll.tolist()\n",
    "    net3 = caffe.Net('/opt/caffe/neurala/training-pipeline/models/classifier/complete_model/complete_model_gorchnet.prototxt',\n",
    "                 '/opt/caffe/neurala/training-pipeline/models/classifier/complete_model/GorchNet-ROI.caffemodel',\n",
    "                caffe.TEST)\n",
    "    net3.blobs['data'].data[...] = data_list\n",
    "    net3.blobs['bboxes'].data[...] = label_list\n",
    "    class_output = net3.forward()\n",
    "    out =  net3.blobs['global_pool'].data\n",
    "    return out\n",
    "    \n",
    "out = net3(mydata, txt_name)"
   ]
  },
  {
   "cell_type": "code",
   "execution_count": 95,
   "metadata": {},
   "outputs": [
    {
     "name": "stdout",
     "output_type": "stream",
     "text": [
      "[ 1.68139681e-01  2.33121201e-01  1.26384348e-01 -5.89088500e-02\n",
      "  4.11682203e-02  2.20284179e-01  1.83470145e-01  1.34981617e-01\n",
      "  1.34788737e-01  2.39737108e-02 -5.25484569e-02  8.71543214e-02\n",
      " -7.35846460e-02 -6.10669442e-02  9.05436724e-02 -4.82168421e-02\n",
      " -1.57246977e-01  1.04664668e-01  9.44748893e-02  5.83240762e-05\n",
      "  1.77080736e-01 -1.12778179e-01 -3.51925083e-02  1.44190580e-01\n",
      "  1.88883441e-03  8.00492391e-02  4.45671044e-02 -4.87709185e-03\n",
      "  1.72753900e-01 -1.17625788e-01 -1.25823721e-01  9.69428867e-02\n",
      " -2.21166685e-01  4.01069820e-02 -1.29300570e-02 -2.24603534e-01\n",
      "  1.04673736e-01 -1.41550496e-01 -1.42613977e-01  1.16897918e-01\n",
      " -8.26550424e-02  1.04966953e-01 -5.62056750e-02  1.95360500e-02\n",
      "  3.64081794e-03  6.13303259e-02 -1.89880461e-01  7.38156512e-02\n",
      "  1.53212026e-01  1.46900326e-01  1.29013896e-01 -1.47685871e-01\n",
      "  6.95815012e-02  1.96774676e-01  5.23239449e-02 -8.19169655e-02\n",
      "  2.01359197e-01 -7.99157545e-02  1.00055404e-01 -8.84114951e-02\n",
      "  1.62154227e-01  6.93668704e-03  1.95958361e-01  1.90264523e-01\n",
      "  1.78624645e-01 -8.25078599e-03 -4.18053335e-03  7.95243308e-02\n",
      " -9.04567689e-02  1.15990788e-01  5.31343780e-02  5.48774451e-02\n",
      " -5.15884310e-02  8.51171091e-02 -5.30492589e-02  2.76963003e-02\n",
      "  2.99132973e-01  1.70167759e-02  1.12884648e-01  5.32000437e-02\n",
      "  1.61809862e-01  3.18618165e-03 -1.71460629e-01 -1.60737947e-01\n",
      "  1.16249986e-01 -1.16563949e-03 -8.11922550e-02  4.91004288e-02\n",
      " -5.78670092e-02 -9.34252888e-02 -1.86106384e-01  2.36375526e-01\n",
      "  1.19317971e-01  6.12557121e-02 -1.89823031e-01 -1.37847234e-02\n",
      "  4.60395589e-02  6.44459426e-02  6.88087046e-02 -5.69883175e-03\n",
      " -6.91075400e-02  4.54119127e-03 -5.78566827e-02 -2.85955399e-01\n",
      "  5.61499521e-02  1.07352570e-01 -2.15671837e-01  2.79633440e-02\n",
      " -1.07477807e-01  8.82480443e-02 -1.09872274e-01  9.21113566e-02\n",
      " -7.55702779e-02  2.46970803e-02  1.09967709e-01 -3.34265940e-02\n",
      "  1.62801296e-01 -1.45447910e-01 -1.16262436e-01  7.74325356e-02\n",
      "  1.18638888e-01 -1.67247858e-02 -1.06397815e-01  1.30879700e-01\n",
      " -5.48592247e-02 -1.06219210e-01  4.92791682e-02 -1.19188420e-01]\n"
     ]
    }
   ],
   "source": [
    "vec = np.reshape(out,(128))\n",
    "print(vec)"
   ]
  },
  {
   "cell_type": "code",
   "execution_count": 115,
   "metadata": {},
   "outputs": [],
   "source": []
  },
  {
   "cell_type": "code",
   "execution_count": 116,
   "metadata": {},
   "outputs": [
    {
     "name": "stdout",
     "output_type": "stream",
     "text": [
      "131\n"
     ]
    }
   ],
   "source": []
  },
  {
   "cell_type": "code",
   "execution_count": 120,
   "metadata": {},
   "outputs": [
    {
     "data": {
      "text/plain": [
       "['squirrel', array([ 84.59589, 235.60592, 465.71729, 362.30111])]"
      ]
     },
     "execution_count": 120,
     "metadata": {},
     "output_type": "execute_result"
    }
   ],
   "source": [
    "data[0][1]"
   ]
  },
  {
   "cell_type": "code",
   "execution_count": null,
   "metadata": {},
   "outputs": [],
   "source": []
  }
 ],
 "metadata": {
  "kernelspec": {
   "display_name": "Python 3",
   "language": "python",
   "name": "python3"
  },
  "language_info": {
   "codemirror_mode": {
    "name": "ipython",
    "version": 3
   },
   "file_extension": ".py",
   "mimetype": "text/x-python",
   "name": "python",
   "nbconvert_exporter": "python",
   "pygments_lexer": "ipython3",
   "version": "3.6.8"
  }
 },
 "nbformat": 4,
 "nbformat_minor": 2
}
