{
 "cells": [
  {
   "cell_type": "code",
   "execution_count": 1,
   "metadata": {},
   "outputs": [],
   "source": [
    "# Python notebook to study the effects of improper BBoxes fed to NEMO classifier\n",
    "\n",
    "import time, os, sys, warnings\n",
    "import os.path as osp\n",
    "import numpy as np\n",
    "import sklearn\n",
    "\n",
    "%matplotlib inline\n",
    "from pylab import *\n",
    "import pydot\n",
    "import matplotlib.patches as patches\n",
    "\n",
    "import caffe\n",
    "import pynemo\n",
    "from PIL import ImageDraw, Image\n",
    "import csv\n",
    "from caffe import layers as L, params as P\n",
    "from caffe.proto import caffe_pb2\n",
    "import caffe.draw\n",
    "\n",
    "from IPython.display import Image, display\n",
    "\n",
    "import cv2\n",
    "from PIL import Image\n",
    "# from easydict import EasyDict as edict\n",
    "# from easydict import EasyDict\n",
    "\n",
    "caffe.set_device(1)\n",
    "caffe.set_mode_gpu()"
   ]
  },
  {
   "cell_type": "code",
   "execution_count": null,
   "metadata": {},
   "outputs": [],
   "source": [
    "net =  caffe.Net('/opt/caffe/neurala/training-pipeline/models/classifier/complete_model/GorchNet-512.prototxt',caffe.TEST)"
   ]
  }
 ],
 "metadata": {
  "kernelspec": {
   "display_name": "Python 3",
   "language": "python",
   "name": "python3"
  },
  "language_info": {
   "codemirror_mode": {
    "name": "ipython",
    "version": 3
   },
   "file_extension": ".py",
   "mimetype": "text/x-python",
   "name": "python",
   "nbconvert_exporter": "python",
   "pygments_lexer": "ipython3",
   "version": "3.6.8"
  }
 },
 "nbformat": 4,
 "nbformat_minor": 2
}
